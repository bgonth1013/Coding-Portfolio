{
 "cells": [
  {
   "cell_type": "markdown",
   "metadata": {},
   "source": [
    "# The IPYNB Goals:\n",
    "\n",
    "1. To read in the Australian Weather Dataframe\n",
    "2. Minimize the storage space of the dataframe\n",
    "3. Visualize the Top 5 Locations with the Lowest Rainfall and Highest Rainfall in Australia"
   ]
  },
  {
   "cell_type": "code",
   "execution_count": 1,
   "metadata": {},
   "outputs": [],
   "source": [
    "import pandas as pd\n",
    "import numpy as np\n",
    "\n",
    "from os.path import join\n",
    "\n",
    "import seaborn as sns\n",
    "import matplotlib.pyplot as plt\n",
    "\n",
    "import warnings\n",
    "\n",
    "warnings.filterwarnings('ignore')\n",
    "\n",
    "path='C:/Users/blake.gonthier/Desktop/Rain in Australia'"
   ]
  },
  {
   "cell_type": "markdown",
   "metadata": {},
   "source": [
    "* Creating Pipeline Class to manage and run the pipeline:"
   ]
  },
  {
   "cell_type": "code",
   "execution_count": 2,
   "metadata": {},
   "outputs": [
    {
     "name": "stdout",
     "output_type": "stream",
     "text": [
      "[]\n"
     ]
    }
   ],
   "source": [
    "class Pipeline:\n",
    "    \n",
    "    def __init__(self):\n",
    "        self.tasks=[]\n",
    "        \n",
    "        \n",
    "    def add_tasks(self,f):\n",
    "        self.tasks.append(f)\n",
    "        return \n",
    "\n",
    "    def run(self):\n",
    "        \n",
    "        counter=0\n",
    "        \n",
    "        for a in self.tasks:\n",
    "            if counter==0:\n",
    "                \n",
    "                input_weather=a()\n",
    "                counter=1\n",
    "            else:\n",
    "                input_weather=a(input_weather)\n",
    "        \n",
    "            \n",
    "            \n",
    "pipeline=Pipeline()\n",
    "print(pipeline.tasks)\n"
   ]
  },
  {
   "cell_type": "markdown",
   "metadata": {},
   "source": [
    "* Function that reads in the necessary data:"
   ]
  },
  {
   "cell_type": "code",
   "execution_count": 3,
   "metadata": {},
   "outputs": [],
   "source": [
    "def read_in_data():\n",
    "    \n",
    "    weather=pd.read_csv(join(path,'weatherAUS.csv'))\n",
    "    \n",
    "    return weather "
   ]
  },
  {
   "cell_type": "markdown",
   "metadata": {},
   "source": [
    "* Function that converts all object columns if needed if there are a small number of uniques for the column to save memory:"
   ]
  },
  {
   "cell_type": "code",
   "execution_count": 4,
   "metadata": {},
   "outputs": [],
   "source": [
    "def categorize(weather):\n",
    "    \n",
    "    filt=weather.select_dtypes('object')\n",
    "    \n",
    "    init_mem=weather.memory_usage(deep=True).sum()/(2**20)\n",
    "    \n",
    "    for a in filt.columns:\n",
    "        \n",
    "        uniques=len(filt[a].unique())\n",
    "        \n",
    "        \n",
    "        if uniques<20:\n",
    "            print('Converting '+a)\n",
    "            weather[a]=filt[a].astype('category')\n",
    "            \n",
    "    # Print Memory Saved\n",
    "    \n",
    "    fin_mem=weather.memory_usage(deep=True).sum()/(2**20)\n",
    "    \n",
    "    print()\n",
    "    \n",
    "    saved=round(init_mem-fin_mem,3)\n",
    "    \n",
    "    print('Total Memory Saved: '+str(saved)+' MB')\n",
    "    \n",
    "    print()\n",
    "    \n",
    "    return weather"
   ]
  },
  {
   "cell_type": "markdown",
   "metadata": {},
   "source": [
    "* Function that downcasts the type of the numeric variables if the values that comprise the column can be converted without losing data to save memory:"
   ]
  },
  {
   "cell_type": "code",
   "execution_count": 5,
   "metadata": {},
   "outputs": [],
   "source": [
    "def downcast_numeric(weather):\n",
    "    \n",
    "    nums=['integer','float']\n",
    "    \n",
    "    init_mem=weather.memory_usage(deep=True).sum()/(2**20)\n",
    "    \n",
    "    for num in nums:\n",
    "        filt=weather.select_dtypes(num)\n",
    "        \n",
    "        for cols in filt.columns:\n",
    "            print('Downcasting '+cols)\n",
    "            weather[cols]=pd.to_numeric(weather[cols],downcast=num)\n",
    "    \n",
    "    fin_mem=weather.memory_usage(deep=True).sum()/(2**20)\n",
    "    \n",
    "    print()\n",
    "    \n",
    "    saved=round(init_mem-fin_mem,3)\n",
    "    \n",
    "    print('Total Memory Saved: '+str(saved)+' MB')\n",
    "    \n",
    "    print()\n",
    "    \n",
    "    return weather"
   ]
  },
  {
   "cell_type": "markdown",
   "metadata": {},
   "source": [
    "* Function that can calculate the total memory of the dataframe and display it:"
   ]
  },
  {
   "cell_type": "code",
   "execution_count": 6,
   "metadata": {},
   "outputs": [],
   "source": [
    "def calculate_memory(weather):\n",
    "    print()\n",
    "    fin_mem=round(weather.memory_usage(deep=True).sum()/(2**20),3)\n",
    "    print('Approximate memory: '+str(fin_mem)+ ' MB')\n",
    "    print()\n",
    "    return "
   ]
  },
  {
   "cell_type": "markdown",
   "metadata": {},
   "source": [
    "* Aggregate function combining the memory saving functions:"
   ]
  },
  {
   "cell_type": "code",
   "execution_count": 7,
   "metadata": {},
   "outputs": [],
   "source": [
    "def minimizing_storage(weather):\n",
    "    \n",
    "    weather=categorize(weather)\n",
    "    \n",
    "    weather=downcast_numeric(weather)\n",
    "    \n",
    "    \n",
    "    return weather"
   ]
  },
  {
   "cell_type": "markdown",
   "metadata": {},
   "source": [
    "* Function that groups the data by location, makes the aggregated rainfall data, and filters out the locations with the most and lest per year rainfall totals:"
   ]
  },
  {
   "cell_type": "code",
   "execution_count": 8,
   "metadata": {},
   "outputs": [],
   "source": [
    "def group_by_location(weather):\n",
    "    \n",
    "    grouped=weather[['Rainfall','Location']].groupby('Location')\n",
    "    \n",
    "    grouped_count=grouped.count()['Rainfall']\n",
    "    \n",
    "    grouped_rainfall=grouped.sum()['Rainfall']\n",
    "    \n",
    "    grouped_year_average=grouped_rainfall/grouped_count*365\n",
    "    \n",
    "    highest=grouped_year_average.sort_values(ascending=False).iloc[:5]\n",
    "    \n",
    "    lowest=grouped_year_average.sort_values().iloc[:5]\n",
    "    \n",
    "    return lowest,highest"
   ]
  },
  {
   "cell_type": "markdown",
   "metadata": {},
   "source": [
    "* Function that takes in the aggregated rainfall data and visualizes the data for the lowest and highest rainfall locations in Australia:"
   ]
  },
  {
   "cell_type": "code",
   "execution_count": 9,
   "metadata": {},
   "outputs": [],
   "source": [
    "def visualize_rainfall(rainfall_tuple):\n",
    "    \n",
    "    lowest,highest=rainfall_tuple\n",
    "    \n",
    "    pos=np.arange(len(lowest))\n",
    "    plt.figure(figsize=(10,7))\n",
    "   \n",
    "    \n",
    "    plt.subplot(221)\n",
    "    \n",
    "    plt.bar(pos,lowest.values,tick_label=lowest.index,color='#FAD72A')\n",
    "    \n",
    "    plt.title('Lowest Rainfall per Year')\n",
    "    \n",
    "    plt.ylabel('Inches of Rainfall per Year')\n",
    "        \n",
    "    plt.xticks(rotation=30)\n",
    "    \n",
    "    plt.subplot(222)\n",
    "    \n",
    "    plt.bar(pos,highest.values,tick_label=highest.index)\n",
    "    \n",
    "        \n",
    "    plt.title('Highest Rainfall per Year')\n",
    "    \n",
    "\n",
    "    \n",
    "    plt.xticks(rotation=30)"
   ]
  },
  {
   "cell_type": "markdown",
   "metadata": {},
   "source": [
    "* Initializing an instance of the Pipeline Class:"
   ]
  },
  {
   "cell_type": "code",
   "execution_count": 10,
   "metadata": {},
   "outputs": [],
   "source": [
    "pipeline=Pipeline()"
   ]
  },
  {
   "cell_type": "markdown",
   "metadata": {},
   "source": [
    "* Adding the Pipeline tasks in the correct order:"
   ]
  },
  {
   "cell_type": "code",
   "execution_count": 11,
   "metadata": {},
   "outputs": [],
   "source": [
    "pipeline.add_tasks(read_in_data)\n",
    "pipeline.add_tasks(minimizing_storage)\n",
    "pipeline.add_tasks(group_by_location)\n",
    "pipeline.add_tasks(visualize_rainfall)"
   ]
  },
  {
   "cell_type": "markdown",
   "metadata": {},
   "source": [
    "* Displaying to see the queue and check if the tasks were added in the right order:"
   ]
  },
  {
   "cell_type": "code",
   "execution_count": 12,
   "metadata": {},
   "outputs": [
    {
     "data": {
      "text/plain": [
       "[<function __main__.read_in_data()>,\n",
       " <function __main__.minimizing_storage(weather)>,\n",
       " <function __main__.group_by_location(weather)>,\n",
       " <function __main__.visualize_rainfall(rainfall_tuple)>]"
      ]
     },
     "execution_count": 12,
     "metadata": {},
     "output_type": "execute_result"
    }
   ],
   "source": [
    "pipeline.tasks"
   ]
  },
  {
   "cell_type": "markdown",
   "metadata": {},
   "source": [
    "* Running the Pipeline:"
   ]
  },
  {
   "cell_type": "code",
   "execution_count": 13,
   "metadata": {
    "scrolled": false
   },
   "outputs": [
    {
     "name": "stdout",
     "output_type": "stream",
     "text": [
      "Converting WindGustDir\n",
      "Converting WindDir9am\n",
      "Converting WindDir3pm\n",
      "Converting RainToday\n",
      "Converting RainTomorrow\n",
      "\n",
      "Total Memory Saved: 39.247 MB\n",
      "\n",
      "Downcasting MinTemp\n",
      "Downcasting MaxTemp\n",
      "Downcasting Rainfall\n",
      "Downcasting Evaporation\n",
      "Downcasting Sunshine\n",
      "Downcasting WindGustSpeed\n",
      "Downcasting WindSpeed9am\n",
      "Downcasting WindSpeed3pm\n",
      "Downcasting Humidity9am\n",
      "Downcasting Humidity3pm\n",
      "Downcasting Pressure9am\n",
      "Downcasting Pressure3pm\n",
      "Downcasting Cloud9am\n",
      "Downcasting Cloud3pm\n",
      "Downcasting Temp9am\n",
      "Downcasting Temp3pm\n",
      "Downcasting RISK_MM\n",
      "\n",
      "Total Memory Saved: 9.221 MB\n",
      "\n"
     ]
    },
    {
     "data": {
      "image/png": "[encoded data removed]",
      "text/plain": [
       "<Figure size 720x504 with 2 Axes>"
      ]
     },
     "metadata": {},
     "output_type": "display_data"
    }
   ],
   "source": [
    "pipeline.run()"
   ]
  },
  {
   "cell_type": "markdown",
   "metadata": {},
   "source": [
    "As you can see the area in Australia that Experienced the least rainfall on a yearly basis is Woomera and the the area in Australia that Experienced the most rainfall on a yearly basis is Cairns"
   ]
  }
 ],
 "metadata": {
  "kernelspec": {
   "display_name": "Python 3",
   "language": "python",
   "name": "python3"
  },
  "language_info": {
   "codemirror_mode": {
    "name": "ipython",
    "version": 3
   },
   "file_extension": ".py",
   "mimetype": "text/x-python",
   "name": "python",
   "nbconvert_exporter": "python",
   "pygments_lexer": "ipython3",
   "version": "3.6.4"
  }
 },
 "nbformat": 4,
 "nbformat_minor": 2
}

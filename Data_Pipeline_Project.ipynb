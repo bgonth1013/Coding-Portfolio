{
 "cells": [
  {
   "cell_type": "code",
   "execution_count": null,
   "metadata": {},
   "outputs": [],
   "source": [
    "from pipeline import Pipeline\n",
    "import csv\n",
    "from pipeline import build_csv\n",
    "import json\n",
    "import io\n",
    "\n",
    "import string\n",
    "import re\n",
    "\n",
    "from functools import partial\n",
    "\n",
    "import datetime\n",
    "\n",
    "from stop_words import stop_words"
   ]
  },
  {
   "cell_type": "code",
   "execution_count": null,
   "metadata": {},
   "outputs": [],
   "source": [
    "pipeline=Pipeline()"
   ]
  },
  {
   "cell_type": "markdown",
   "metadata": {},
   "source": [
    "## Goal is to filter out stories that are most Popular and do a word count of the most popular words used:\n",
    "* Criteria: 50 points, more than 1 comment, and titles that do not begin with Ask HN"
   ]
  },
  {
   "cell_type": "code",
   "execution_count": null,
   "metadata": {},
   "outputs": [],
   "source": [
    "@pipeline.task()\n",
    "def file_to_json():\n",
    "    \n",
    "    json_file=open('hn_stories_2014.json')\n",
    "    \n",
    "    output=json.load(json_file)\n",
    "    \n",
    "    return output['stories']\n",
    "\n",
    "@pipeline.task(depends_on=file_to_json)\n",
    "def filter_stories(li):\n",
    "    \n",
    "    def inner(date):\n",
    "        return datetime.datetime.strptime(date,'%Y-%m-%dT%H:%M:%SZ')\n",
    "    \n",
    "    generator=((a['title'],a['objectID'],inner(a['created_at']),a['url'],a['points']) for a in li if ((a['title']!='Ask HN')&(a['points']>=50)&(a['num_comments']>1)))\n",
    "    \n",
    "    \n",
    "    return generator\n",
    "\n",
    "@pipeline.task(depends_on=filter_stories)\n",
    "def json_to_csv(filtered_dat):\n",
    "    output=build_csv(filtered_dat,header=['title','objectID', 'created_at', 'url', 'points'],file=io.StringIO())\n",
    "    return output\n",
    "\n",
    "\n",
    "@pipeline.task(depends_on=json_to_csv)\n",
    "def extract_titles(output):\n",
    "    \n",
    "    titles_gen=(a.split(',')[0] for a in output)\n",
    "    \n",
    "    return titles_gen\n",
    "\n",
    "@pipeline.task(depends_on=extract_titles)\n",
    "def clean_titles(input_titles):\n",
    "    \n",
    "    punct=string.punctuation\n",
    "    punct=punct+'‘'+'’'\n",
    "    re_exp='['+punct+']'\n",
    "    \n",
    "    clean_gen=(re.sub(re_exp,' ',a.lower()) for a in input_titles)\n",
    "\n",
    "    return clean_gen\n",
    "\n",
    "@pipeline.task(depends_on=clean_titles)\n",
    "def build_keyword_dictionary(cleaned_titles_gen):\n",
    "    \n",
    "    partial_func=partial(lambda x: re.split(' *',x.strip()))\n",
    "    \n",
    "    \n",
    "    keyword_dic={}\n",
    "    \n",
    "    def inner(x):\n",
    "        if x!='title':\n",
    "            li=partial_func(x)\n",
    "\n",
    "            for x in li:\n",
    "                if x not in stop_words:\n",
    "                    if x not in keyword_dic.keys():\n",
    "                        keyword_dic[x]=1\n",
    "                    else:\n",
    "                        keyword_dic[x]+=1\n",
    "\n",
    "        return keyword_dic\n",
    "    \n",
    "    gen=(inner(title) for title in cleaned_titles_gen)\n",
    "    \n",
    "    for dic in gen:\n",
    "        \n",
    "        try:\n",
    "            final_dic=dic\n",
    "            \n",
    "        except Exception as e:\n",
    "            pass\n",
    "        \n",
    "    return  final_dic\n",
    "\n",
    "@pipeline.task(depends_on=build_keyword_dictionary)\n",
    "def sorting_dic(final_dic):\n",
    "   \n",
    "    final_dic1=sorted(final_dic.items(), key=lambda kv:kv[1],reverse=True)  \n",
    "    \n",
    "    return final_dic1\n"
   ]
  },
  {
   "cell_type": "code",
   "execution_count": null,
   "metadata": {},
   "outputs": [],
   "source": [
    "pipeline_output=pipeline.run()"
   ]
  },
  {
   "cell_type": "code",
   "execution_count": null,
   "metadata": {},
   "outputs": [],
   "source": [
    "print(pipeline_output.keys())\n",
    "function_li=list(pipeline_output.keys())"
   ]
  },
  {
   "cell_type": "markdown",
   "metadata": {},
   "source": [
    "### Prints out the sorted word count dictionary from the most used words to the least used"
   ]
  },
  {
   "cell_type": "code",
   "execution_count": null,
   "metadata": {},
   "outputs": [],
   "source": [
    "print(pipeline_output[function_li[6]])"
   ]
  }
 ],
 "metadata": {
  "kernelspec": {
   "display_name": "Python 3",
   "language": "python",
   "name": "python3"
  },
  "language_info": {
   "codemirror_mode": {
    "name": "ipython",
    "version": 3
   },
   "file_extension": ".py",
   "mimetype": "text/x-python",
   "name": "python",
   "nbconvert_exporter": "python",
   "pygments_lexer": "ipython3",
   "version": "3.6.4"
  }
 },
 "nbformat": 4,
 "nbformat_minor": 2
}

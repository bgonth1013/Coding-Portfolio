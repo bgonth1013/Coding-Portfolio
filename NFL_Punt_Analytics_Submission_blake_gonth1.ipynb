{
 "cells": [
  {
   "cell_type": "markdown",
   "metadata": {},
   "source": [
    "# Changes to incorporate when trying to reduce concussions on punt plays:\n",
    "\n",
    "1. Need to enforce stricter leading with helmet calls, so that players are not incentivized to lead with their helmet when tackling or blocking.\n",
    "2. Need to make slight modification to the standard punt formation rules that will reduce the velocity of the players to minimize chance of concussion occurring.\n",
    "\n",
    "\n",
    "The notebook below goes over the above proposals along with the corresponding analysis that supports these proposals."
   ]
  },
  {
   "cell_type": "code",
   "execution_count": 99,
   "metadata": {},
   "outputs": [],
   "source": [
    "import pandas as pd\n",
    "import numpy as np\n",
    "\n",
    "import math\n",
    "\n",
    "from scipy.stats import chisquare\n",
    "from scipy.stats import ttest_ind\n",
    "\n",
    "import datetime\n",
    "\n",
    "import matplotlib.pyplot as plt\n",
    "import seaborn as sns\n",
    "\n",
    "from matplotlib  import cm\n",
    "import matplotlib.patches as patches\n",
    "\n",
    "from matplotlib.patches import Patch\n",
    "from matplotlib.lines import Line2D\n",
    "\n",
    "import os\n",
    "print(os.listdir(\"../input\"))\n",
    "\n",
    "import warnings\n",
    "\n",
    "warnings.filterwarnings('ignore')"
   ]
  },
  {
   "cell_type": "markdown",
   "metadata": {},
   "source": [
    "# Findings\n",
    "\n",
    "It was found that there are two main factors of concussion inducing plays on punt returns.\n",
    "\n",
    "* The dangerous form of blocking or tackling leading with the helmet\n",
    "* The faster velocity that occurs on punt-plays as opposed to the standard run or pass plays that are in a football game.\n",
    "\n",
    "The combination of both of these factors increase the probability of players experiencing a concussion.\n",
    "\n",
    "To change the player’s behavior of leading with the helmet when they block or tackle, the NFL needs to enforce stricter penalties similar to the new targeting rules that college football has put in place.\n",
    "\n",
    "\n",
    "To reduce the average player velocity during a punt play, the traditional punt play formations for the returning and coverage team needs to be altered.\n",
    "\n",
    "* Only 4 players are allowed on or near the line of scrimmage by the ball snap location for each team, otherwise it would be called an illegal formation.\n",
    "\n",
    "Explanation for both of these rule changes are in the data analysis are in this notebook."
   ]
  },
  {
   "cell_type": "markdown",
   "metadata": {},
   "source": [
    "# NGS Data Analysis of Video Review"
   ]
  },
  {
   "cell_type": "code",
   "execution_count": null,
   "metadata": {},
   "outputs": [],
   "source": [
    "involved_players=concussion_inv.copy()\n",
    "\n",
    "ngs1=pd.read_csv('../input/NGS-2016-reg-wk1-6.csv')\n",
    "ngs1_merge=pd.merge(ngs1,involved_players,left_on=['Season_Year','GameKey','PlayID','GSISID'],right_on=['Season_Year','GameKey','PlayID','GSISID'])\n",
    "\n",
    "ngs2=pd.read_csv('../input/NGS-2016-reg-wk7-12.csv')\n",
    "ngs2_merge=pd.merge(ngs2,involved_players,left_on=['Season_Year','GameKey','PlayID','GSISID'],right_on=['Season_Year','GameKey','PlayID','GSISID'])\n",
    "\n",
    "ngs3=pd.read_csv('../input/NGS-2016-reg-wk13-17.csv')\n",
    "ngs3_merge=pd.merge(ngs3,involved_players,left_on=['Season_Year','GameKey','PlayID','GSISID'],right_on=['Season_Year','GameKey','PlayID','GSISID'])\n",
    "\n",
    "ngs4=pd.read_csv('../input/NGS-2016-pre.csv')\n",
    "ngs4_merge=pd.merge(ngs4,involved_players,left_on=['Season_Year','GameKey','PlayID','GSISID'],right_on=['Season_Year','GameKey','PlayID','GSISID'])\n",
    "\n",
    "ngs5=pd.read_csv('../input/NGS-2016-post.csv')\n",
    "ngs5_merge=pd.merge(ngs5,involved_players,left_on=['Season_Year','GameKey','PlayID','GSISID'],right_on=['Season_Year','GameKey','PlayID','GSISID'])\n",
    "\n",
    "ngs2_merge['Index']=np.arange(1036,len(ngs2_merge)+1036)\n",
    "ngs2_merge.set_index('Index',inplace=True)\n",
    "ngs_combined=pd.concat([ngs1_merge,ngs2_merge])\n",
    "\n",
    "ngs3_merge['Index']=np.arange(3058,len(ngs3_merge)+3058)\n",
    "ngs3_merge.set_index('Index',inplace=True)\n",
    "ngs_combined=pd.concat([ngs_combined,ngs3_merge])\n",
    "\n",
    "ngs4_merge['Index']=np.arange(8929,len(ngs4_merge)+8929)\n",
    "ngs4_merge.set_index('Index',inplace=True)\n",
    "ngs_combined=pd.concat([ngs_combined,ngs4_merge])\n",
    "\n",
    "ngs5_merge['Index']=np.arange(13390,len(ngs5_merge)+13390)\n",
    "ngs5_merge.set_index('Index',inplace=True)\n",
    "ngs_combined=pd.concat([ngs_combined,ngs5_merge])\n",
    "\n",
    "ngs_combined['Time']=ngs_combined.Time.map(lambda x:datetime.datetime.strptime(x,'%Y-%m-%d %H:%M:%S.%f'))"
   ]
  },
  {
   "cell_type": "markdown",
   "metadata": {},
   "source": [
    "## Plotting Player Motion with Velocities "
   ]
  },
  {
   "cell_type": "code",
   "execution_count": null,
   "metadata": {},
   "outputs": [],
   "source": [
    "#Functions used to plot NGS data along with velocity data to track concussion time\n",
    "\n",
    "def plot_ngs_data(df,season,gamekey,playid):\n",
    "    \n",
    "    \n",
    "    \n",
    "    filtered_df1=df[(df.Season_Year==season)&(df.GameKey==gamekey)&(df.PlayID==playid)]\n",
    "    \n",
    "    players=filtered_df1.GSISID.unique()\n",
    "    \n",
    "    player_1=players[0]\n",
    "    player_2=players[1]\n",
    "   \n",
    "    player_1_df=df[df['GSISID']==player_1]\n",
    "    player_1_df=player_1_df.sort_values('Time')\n",
    "    \n",
    "    \n",
    "    index_start1=player_1_df[player_1_df.Event=='ball_snap'].index[0]\n",
    "    \n",
    "    index_start1=player_1_df.index.get_loc(index_start1)\n",
    "    \n",
    "    try:\n",
    "        index_end1=player_1_df[player_1_df.Event=='punt_downed'].index[0]\n",
    "        index_end1=player_1_df.index.get_loc(index_end1)\n",
    "    except Exception:\n",
    "        index_end1=player_1_df[player_1_df.Event=='play_submit'].index[0]\n",
    "        index_end1=player_1_df.index.get_loc(index_end1)\n",
    "        \n",
    "    player_1_df=player_1_df.iloc[index_start1:index_end1+1]\n",
    "    \n",
    "    player_2_df=df[df['GSISID']==player_2]\n",
    "    player_2_df=player_2_df.sort_values('Time')\n",
    "    \n",
    "    index_start2=player_2_df[player_2_df.Event=='ball_snap'].index[0]\n",
    "    \n",
    "    index_start2=player_2_df.index.get_loc(index_start2)\n",
    "    \n",
    "    try:\n",
    "        index_end2=player_2_df[player_2_df.Event=='punt_downed'].index[0]\n",
    "        index_end2=player_2_df.index.get_loc(index_end2)\n",
    "    except Exception:\n",
    "        index_end2=player_2_df[player_2_df.Event=='play_submit'].index[0]\n",
    "        index_end2=player_2_df.index.get_loc(index_end2)\n",
    "        \n",
    "    player_2_df=player_2_df.iloc[index_start2:index_end2+1]\n",
    "    \n",
    "   \n",
    "    player_1_injury=player_1_df['Injured'].iloc[0]\n",
    "    \n",
    "    fig2 = plt.figure()\n",
    "    ax2 = fig2.add_subplot(111, aspect='equal')\n",
    "    ax2.axis('off')\n",
    "\n",
    "    ax2.add_patch(\n",
    "         patches.Rectangle(\n",
    "            (0, 0),\n",
    "            120,\n",
    "            53.3,\n",
    "            ec='g',\n",
    "            fill=False,\n",
    "            alpha=1\n",
    "         ) ) \n",
    "\n",
    "    ax2.add_patch( patches.Rectangle(\n",
    "            (110, 0),\n",
    "            10,\n",
    "            53.3,\n",
    "            ec='g',\n",
    "            fill=True,\n",
    "            facecolor='g',\n",
    "            alpha=1))\n",
    "\n",
    "    ax2.add_patch(\n",
    "         patches.Rectangle(\n",
    "            (0, 0),\n",
    "            10,\n",
    "            53.3,\n",
    "            ec='g',\n",
    "            fill=True,\n",
    "            facecolor='g',\n",
    "            alpha=1\n",
    "         ) ) \n",
    "\n",
    "\n",
    "    for a in range(1,21):\n",
    "        if a*5!=50:\n",
    "\n",
    "            ax2.add_patch(\n",
    "             patches.Rectangle(\n",
    "                (10, 0),\n",
    "                a*5,\n",
    "                53.3,\n",
    "                ec='g',\n",
    "                fill=False,\n",
    "                alpha=0.3\n",
    "             ) ) \n",
    "        else:\n",
    "            ax2.add_patch(\n",
    "             patches.Rectangle(\n",
    "                (10, 0),\n",
    "                a*5,\n",
    "                53.3,\n",
    "                ec='g',\n",
    "                fill=False,\n",
    "                alpha=1\n",
    "             ) ) \n",
    "\n",
    "\n",
    "    plt.xlim((-5,130))\n",
    "    plt.ylim((-5,58))\n",
    "\n",
    "    plt.tick_params(       \n",
    "  \n",
    "        left=False,\n",
    "        labelleft=False) \n",
    "\n",
    "    plt.title('NGS Player Motion');\n",
    "    \n",
    "    plt.scatter(player_1_df['x'],player_1_df['y'],c=making_velocity(player_1_df,player_1),cmap=cm.coolwarm);\n",
    "    plt.scatter(player_2_df['x'],player_2_df['y'],c=making_velocity(player_2_df,player_2),cmap=cm.coolwarm);\n",
    "\n",
    "    if player_1_injury==1:\n",
    "        plt.text(player_1_df['x'].iloc[0]+3,player_1_df['y'].iloc[0],player_1_df['Role'].iloc[0]+' Injured');\n",
    "        plt.text(player_2_df['x'].iloc[0]+3,player_2_df['y'].iloc[0]+4,player_2_df['Role'].iloc[0]);\n",
    "    else:\n",
    "        plt.text(player_1_df['x'].iloc[0]+3,player_1_df['y'].iloc[0]+4,player_1_df['Role'].iloc[0]);\n",
    "        plt.text(player_2_df['x'].iloc[0]+3,player_2_df['y'].iloc[0],player_2_df['Role'].iloc[0]+' Injured');\n",
    "        \n",
    "    return\n",
    "        \n",
    "def ngs_data_transformation(df):\n",
    "    \n",
    "    dic={}\n",
    "    counter=0\n",
    "    \n",
    "    df['Play_Identifier']=df['Season_Year'].map(str)+' '+df['GameKey'].map(str)+' '+df['PlayID'].map(str)\n",
    "    \n",
    "    \n",
    "    for a in df.Play_Identifier.unique():\n",
    "        \n",
    "        filtered_df_pre=df[df['Play_Identifier']==a]\n",
    "        dic[a]=[]\n",
    "        for b in filtered_df_pre.GSISID.unique():\n",
    "            filtered_df=df[df['GSISID']==b]\n",
    "            filtered_df=filtered_df.sort_values('Time')\n",
    "        \n",
    "    #Making Velocity Calculations:\n",
    "            filtered_df['Velocity']=making_velocity(filtered_df,b)\n",
    "        \n",
    "    \n",
    "        \n",
    "    #Making cumsum distance calculations:\n",
    "    \n",
    "            filtered_df['Total_Distance']=filtered_df.dis.cumsum()\n",
    "        \n",
    "            dic[a].append(filtered_df.copy())\n",
    "        \n",
    "    return dic\n",
    "\n",
    "def making_velocity(df,gsisid):  #ensure\n",
    "    df=df.sort_values(['Season_Year','GameKey','PlayID','GSISID','Time'])\n",
    "    \n",
    "    counter=0\n",
    "    filtered_df=df[df.GSISID==gsisid]\n",
    "\n",
    "    velocity_vals=[0]\n",
    "    for b in range(1,len(filtered_df)):\n",
    "        val=filtered_df.iloc[b]\n",
    "        prev=filtered_df.iloc[b-1]\n",
    "        velocity=(math.sqrt((val.x-prev.x)**2+(val.y-prev.y)**2))/(val.Time-prev.Time).total_seconds()\n",
    "        velocity_vals.append(velocity)\n",
    "                        \n",
    "    return velocity_vals      \n",
    "       \n",
    "def plot_vel_vs_time(df1,df2):\n",
    "    \n",
    "    player1=int(df1.GSISID.iloc[0])\n",
    "    player2=int(df2.GSISID.iloc[1])\n",
    "    \n",
    "    \n",
    "    \n",
    "    player1_injury=df1.Injured.iloc[0]\n",
    "    \n",
    "    \n",
    "    df1=df1.sort_values('Time')\n",
    "    df2=df2.sort_values('Time')\n",
    "    \n",
    "    index_start1=df1[df1.Event=='ball_snap'].index[0]\n",
    "    \n",
    "    index_start1=df1.index.get_loc(index_start1)\n",
    "    \n",
    "    try:\n",
    "        index_end1=df1[df1.Event=='punt_downed'].index[0]\n",
    "        index_end1=df1.index.get_loc(index_end1)\n",
    "    except Exception:\n",
    "        index_end1=df1[df1.Event=='play_submit'].index[0]\n",
    "        index_end1=df1.index.get_loc(index_end1)\n",
    "        \n",
    "    df1=df1.iloc[index_start1:index_end1+1]\n",
    "    \n",
    "    index_start2=df2[df2.Event=='ball_snap'].index[0]\n",
    "    \n",
    "    index_start2=df2.index.get_loc(index_start2)\n",
    "    \n",
    "    try:\n",
    "        index_end2=df2[df2.Event=='punt_downed'].index[0]\n",
    "        index_end2=df2.index.get_loc(index_end2)\n",
    "    except Exception:\n",
    "        index_end2=df2[df2.Event=='play_submit'].index[0]\n",
    "        index_end2=df2.index.get_loc(index_end2)\n",
    "        \n",
    "    df2=df2.iloc[index_start2:index_end2+1]\n",
    "    \n",
    "    start_time1=df1.Time.iloc[0]\n",
    "    start_time2=df2.Time.iloc[0]\n",
    "    \n",
    "    \n",
    "    df1['Time_Elapsed']=(df1['Time']-start_time1).map(lambda x: x.total_seconds())\n",
    "    df2['Time_Elapsed']=(df2['Time']-start_time2).map(lambda x: x.total_seconds())\n",
    "    \n",
    "    \n",
    "    if player1_injury==0:\n",
    "        plt.plot(df1['Time_Elapsed'],making_velocity(df1,player1),label='Player '+str(player1),c='g')\n",
    "        plt.plot(df2['Time_Elapsed'],making_velocity(df2,player2),label='Concussed Player '+str(player2),c='r')\n",
    "    else:\n",
    "        plt.plot(df1['Time_Elapsed'],making_velocity(df1,player1),label='Concussed Player '+str(player1),c='r')\n",
    "        plt.plot(df2['Time_Elapsed'],making_velocity(df2,player2),label='Player '+str(player2),c='g')\n",
    "        \n",
    "    plt.title('Velocity vs. Time Elapsed' );\n",
    "    plt.ylabel('Velocity (yds/sec)')\n",
    "    plt.xlabel('Time Elapsed (sec)')\n",
    "    plt.legend()\n",
    "    \n",
    "def plot_vel_vs_dist(df1,df2):\n",
    "    \n",
    "    player1=int(df1.GSISID.iloc[0])\n",
    "    player2=int(df2.GSISID.iloc[1])\n",
    "    \n",
    "    player1_injury=df1.Injured.iloc[0]\n",
    "    \n",
    "    \n",
    "    \n",
    "    if player1_injury==0:\n",
    "        plt.plot(df1['Total_Distance'],making_velocity(df1,player1),label='Player '+str(player1),c='g')\n",
    "        plt.plot(df2['Total_Distance'],making_velocity(df2,player2),label='Concussed Player '+str(player2),c='r')\n",
    "    else:\n",
    "        plt.plot(df1['Total_Distance'],making_velocity(df1,player1),label='Concussed Player '+str(player1),c='r')\n",
    "        plt.plot(df2['Total_Distance'],making_velocity(df2,player2),label='Player '+str(player2),c='g')\n",
    "        \n",
    "    plt.title('Velocity vs. Distance Traveled' );\n",
    "    plt.ylabel('Velocity (yds/s)')\n",
    "    plt.xlabel('Total Distance Traveled (yds)')\n",
    "    plt.legend()"
   ]
  },
  {
   "cell_type": "markdown",
   "metadata": {},
   "source": [
    "# 3 NGS Data Concussion Scenarios\n",
    "\n",
    "    * Note: Still Frame Screenshots of hits are in the submitted powerpoint."
   ]
  },
  {
   "cell_type": "markdown",
   "metadata": {},
   "source": [
    "**Scenario 1**\n",
    "\n",
    "* Concussion occurred when non-injured player ran into injured player at full speed while the injured player lead with his helmet.\n",
    "\n",
    "**Notes:**\n",
    "\n",
    "* During impact that occurred, the difference in velocity between the injured and non-injured players was approximately 5 yds/sec. \n",
    "\n",
    "\n",
    "* The punt returned that did occur was on a punt return that lasted approximately 14 seconds because the returner was able to gain decent yardage on the return, which lengthened the play.\n",
    "\n",
    "\n",
    "* The fact that the injured player lead with his head when there was a large difference in velocity at impact, helped prompt the concussion.  If the player did not lead with his helmet, then the chances that a concussion would have occurred would have lessened.\n"
   ]
  },
  {
   "cell_type": "code",
   "execution_count": 41,
   "metadata": {},
   "outputs": [],
   "source": [
    "output=ngs_data_transformation(ngs_combined)"
   ]
  },
  {
   "cell_type": "code",
   "execution_count": 42,
   "metadata": {},
   "outputs": [
    {
     "data": {
      "image/png": "[encoded data removed]",
      "text/plain": [
       "<Figure size 432x288 with 1 Axes>"
      ]
     },
     "metadata": {},
     "output_type": "display_data"
    }
   ],
   "source": [
    "plot_ngs_data(ngs_combined,2016, 144, 2342)"
   ]
  },
  {
   "cell_type": "code",
   "execution_count": 43,
   "metadata": {},
   "outputs": [
    {
     "data": {
      "image/png": "[encoded data removed]",
      "text/plain": [
       "<Figure size 432x288 with 1 Axes>"
      ]
     },
     "metadata": {},
     "output_type": "display_data"
    }
   ],
   "source": [
    "plot_vel_vs_time(output['2016 144 2342'][0],output['2016 144 2342'][1])\n",
    "plt.axvline(7,c='k');\n",
    "plt.text(4,2.4,'Concussion \\nOccurrence');\n"
   ]
  },
  {
   "cell_type": "markdown",
   "metadata": {},
   "source": [
    "**Scenario 2**\n",
    "\n",
    "* Concussion occurred when non-injured player was running at near  full speed and the injured player was running at full speed.\n",
    "\n",
    "\n",
    "* Worth noting that the injured player lead with his helmet, which caused the concussion.\n",
    "\n",
    "**Notes**\n",
    "\n",
    "* In this scenario, there was a high speed collision between both of the players.  High speed collisions generate more energy and can increase the probability of concussions.\n",
    "\n",
    "\n",
    "* The punt lasted around 12 seconds and the returner was able to return the punt for a decent yardage gain, which allowed the players to build up momentum.\n",
    "\n",
    "\n",
    "* The injured player was able to gain speed to the point where his head first tackle caused a concussion, otherwise a concussion could have been prevented.\n"
   ]
  },
  {
   "cell_type": "code",
   "execution_count": 44,
   "metadata": {},
   "outputs": [
    {
     "data": {
      "image/png": "[encoded data removed]",
      "text/plain": [
       "<Figure size 432x288 with 1 Axes>"
      ]
     },
     "metadata": {},
     "output_type": "display_data"
    }
   ],
   "source": [
    "plot_ngs_data(ngs_combined,2016,5,3129)"
   ]
  },
  {
   "cell_type": "code",
   "execution_count": 45,
   "metadata": {},
   "outputs": [
    {
     "data": {
      "image/png": "[encoded data removed]",
      "text/plain": [
       "<Figure size 432x288 with 1 Axes>"
      ]
     },
     "metadata": {},
     "output_type": "display_data"
    }
   ],
   "source": [
    "plot_vel_vs_time(output['2016 5 3129'][0],output['2016 5 3129'][1])\n",
    "plt.axvline(11,c='k');\n",
    "plt.text(11.3,8,'Concussion \\nOccurrence');"
   ]
  },
  {
   "cell_type": "markdown",
   "metadata": {},
   "source": [
    "**Scenario 3**\n",
    "\n",
    "* Concussion occurred when the injured player was running at near full speed and was blindsided by an oncoming blocker who led with his helmet.\n",
    "\n",
    "**Notes**\n",
    "\n",
    "* As opposed to the other scenarios, this punt was punted across the 50 yard line, was short and was downed inside the 20 yard line.\n",
    "\n",
    "\n",
    "* However, even though this punt play was only around  6 seconds, the players were able to accelerate quickly and were at near full speed when the concussion occurred 4 seconds into the play. \n",
    "\n",
    "\n",
    "* The non-injured player lead in helmet first into the oncoming tackler, which caused the concussion. \n"
   ]
  },
  {
   "cell_type": "code",
   "execution_count": 46,
   "metadata": {},
   "outputs": [
    {
     "data": {
      "image/png": "[encoded data removed]",
      "text/plain": [
       "<Figure size 432x288 with 1 Axes>"
      ]
     },
     "metadata": {},
     "output_type": "display_data"
    }
   ],
   "source": [
    "plot_ngs_data(ngs_combined,2016,21,2587)"
   ]
  },
  {
   "cell_type": "code",
   "execution_count": 47,
   "metadata": {},
   "outputs": [
    {
     "data": {
      "image/png": "[encoded data removed]",
      "text/plain": [
       "<Figure size 432x288 with 1 Axes>"
      ]
     },
     "metadata": {},
     "output_type": "display_data"
    }
   ],
   "source": [
    "plot_vel_vs_time(output['2016 21 2587'][0],output['2016 21 2587'][1])\n",
    "plt.axvline(4.3,c='k');\n",
    "plt.text(2.5,2,'Concussion \\nOccurrence');"
   ]
  },
  {
   "cell_type": "markdown",
   "metadata": {},
   "source": [
    "# Proposed Rule Changes\n",
    "\n",
    "**A common theme of concussions that occur are twofold:**\n",
    "\n",
    "1. Improper Tackling or Blocking Leading with Helmet\n",
    "    * Some of which are intentional and are unintentional (due to biomechanics)\n",
    "    * Can cause sudden change in movement of the head, which lead to concussions\n",
    "\n",
    "\n",
    "\n",
    "2. High Velocity Impact\n",
    "    * Leads to larger energy transfer, which can increase probability of concussion\n",
    "\n",
    "## Dangerous Tackling/Blocking Form\n",
    "\n",
    "* The data shows concussions induced from helmet to helmet contact, which are more intentional, are still prevalent on punt plays and make up for 45.9% of all concussions on punts in 2016-2017"
   ]
  },
  {
   "cell_type": "code",
   "execution_count": 48,
   "metadata": {},
   "outputs": [
    {
     "data": {
      "image/png": "[encoded data removed]",
      "text/plain": [
       "<Figure size 720x432 with 1 Axes>"
      ]
     },
     "metadata": {},
     "output_type": "display_data"
    }
   ],
   "source": [
    "legend_elements = [Line2D([0], [0], marker='o', color='w', label='2016',\n",
    "                          markerfacecolor='g', markersize=15),\n",
    "                   Line2D([0], [0], marker='o', color='w', label='2017',\n",
    "                          markerfacecolor='r', markersize=15)]\n",
    "\n",
    "# Create the figure\n",
    "fig, ax = plt.subplots()\n",
    "\n",
    "fig.set_size_inches(10,6)\n",
    "ax.legend(handles=legend_elements, loc='upper right')\n",
    "plt.pie(involved_players[involved_players.Injured==1].groupby(['Season_Year','Primary_Impact_Type']).count()['Injured'],\n",
    "        labels=['Helmet-to-body','Helmet-to-ground','Helmet-to-helmet','Helmet-to-body','Helmet-to-ground','Helmet-to-helmet','Unclear'],\n",
    "    explode=[.1,.1,.1,.1,.1,.1,.1],colors=['olivedrab','lightgreen','olivedrab','r','lightsalmon','r','lightsalmon'],startangle=85,\n",
    "       autopct='%1.1f%%');"
   ]
  },
  {
   "cell_type": "code",
   "execution_count": 49,
   "metadata": {},
   "outputs": [
    {
     "data": {
      "text/plain": [
       "Season_Year  Primary_Impact_Type\n",
       "2016         Helmet-to-body         10\n",
       "             Helmet-to-ground        1\n",
       "             Helmet-to-helmet        8\n",
       "2017         Helmet-to-body          7\n",
       "             Helmet-to-ground        1\n",
       "             Helmet-to-helmet        9\n",
       "             Unclear                 1\n",
       "Name: Injured, dtype: int64"
      ]
     },
     "execution_count": 49,
     "metadata": {},
     "output_type": "execute_result"
    }
   ],
   "source": [
    "involved_players[involved_players.Injured==1].groupby(['Season_Year','Primary_Impact_Type']).count()['Injured']"
   ]
  },
  {
   "cell_type": "markdown",
   "metadata": {},
   "source": [
    "### Chi Square Test to test and see effectiveness of new rule change from 2016-2017"
   ]
  },
  {
   "cell_type": "code",
   "execution_count": 50,
   "metadata": {},
   "outputs": [
    {
     "data": {
      "text/plain": [
       "Season_Year\n",
       "2016    37\n",
       "2017    33\n",
       "Name: GameKey, dtype: int64"
      ]
     },
     "execution_count": 50,
     "metadata": {},
     "output_type": "execute_result"
    }
   ],
   "source": [
    "involved_players.groupby('Season_Year')['GameKey'].count()"
   ]
  },
  {
   "cell_type": "code",
   "execution_count": 51,
   "metadata": {},
   "outputs": [
    {
     "data": {
      "text/plain": [
       "Power_divergenceResult(statistic=0.43243243243243246, pvalue=0.5107977981738965)"
      ]
     },
     "execution_count": 51,
     "metadata": {},
     "output_type": "execute_result"
    }
   ],
   "source": [
    "# chisquare([2016 freq,2017 freq],[expected_freq for 2016, expected_freq for 2017])\n",
    "chisquare([37,33],[37,37])"
   ]
  },
  {
   "cell_type": "markdown",
   "metadata": {},
   "source": [
    "* The resulting p-value is 0.51.  This means there is a 51% chance that this rule change caused a significant reduction in concussions, which means there is no significant statistical evidence to support that claim.\n",
    "\n",
    "\n",
    "* From the Chi-Square analysis, stricter rule changes need to be made to prevent this dangerous tackling and blocking form.\n",
    "    * This assumes that the rules added to the 2018 NFL Rule book have not reduced the number of concussions on punt plays.\n",
    "    \n",
    "      \n",
    "    \n",
    "* A radical new rule for the NFL can incorporate a similar targeting rule employed in college football to help eliminate this dangerous football move to massively reduce number of concussions.\n",
    "    1. First review can be done to establish intent of the helmet leading tackle or block of which will either confirm or reverse the call.\n",
    "    2. If a player is charged with two targeting calls, then the player is removed from the game.\n"
   ]
  },
  {
   "cell_type": "markdown",
   "metadata": {},
   "source": [
    "# Similar NBA Ejection Structure to Proposed Solution"
   ]
  },
  {
   "cell_type": "markdown",
   "metadata": {},
   "source": [
    "* A similar ejection rule structure is emphasized in the NBA, where if one player gets two technical fouls, then they are ejected from the game."
   ]
  },
  {
   "cell_type": "code",
   "execution_count": 143,
   "metadata": {},
   "outputs": [],
   "source": [
    "nba_techs=pd.read_csv('../input/nba_data/nba_stats.txt',sep='\\t')"
   ]
  },
  {
   "cell_type": "code",
   "execution_count": 144,
   "metadata": {},
   "outputs": [
    {
     "name": "stdout",
     "output_type": "stream",
     "text": [
      "Average Technical Fouls per Ejection: 4.49\n"
     ]
    }
   ],
   "source": [
    "tech_per_eject=round((nba_techs['TECH']/nba_techs['EJECT']).mean(),2)\n",
    "print('Average Technical Fouls per Ejection: '+str(tech_per_eject))"
   ]
  },
  {
   "cell_type": "code",
   "execution_count": 63,
   "metadata": {},
   "outputs": [
    {
     "data": {
      "image/png": "[encoded data removed]",
      "text/plain": [
       "<Figure size 432x288 with 1 Axes>"
      ]
     },
     "metadata": {},
     "output_type": "display_data"
    }
   ],
   "source": [
    "sns.boxplot(nba_techs['EJECT']);\n",
    "plt.xlabel('Ejection Count for 2017-2018 NBA Season');"
   ]
  },
  {
   "cell_type": "markdown",
   "metadata": {},
   "source": [
    "* The data shows that once a player commits a technical foul in a game, they are less likely to commit a second technical foul the rest of the game.\n",
    "    * From a sample taken from foxsports.com:\n",
    "        * On average a player averages 4.49 technical fouls per ejection.\n",
    "        * This means that players typically do not commit another technical foul after committing one technical foul."
   ]
  },
  {
   "cell_type": "markdown",
   "metadata": {},
   "source": [
    "## Dealing with High Velocity Impact"
   ]
  },
  {
   "cell_type": "markdown",
   "metadata": {},
   "source": [
    "* Since there is no data showing the point in time when a player was hit, the data was filtered out to only include players who got a concussion as a result of a tackle.\n",
    "    * The velocity that is displayed below is the velocity of players when \n",
    "        * A punt was received or\n",
    "        * A punt was downed or\n",
    "        * A punt was kicked out of bounds\n"
   ]
  },
  {
   "cell_type": "code",
   "execution_count": 52,
   "metadata": {},
   "outputs": [
    {
     "data": {
      "text/plain": [
       "array([0.90000004, 5.40000021, 1.80000007, ..., 4.09999996, 8.29999983,\n",
       "       5.69999993])"
      ]
     },
     "execution_count": 52,
     "metadata": {},
     "output_type": "execute_result"
    }
   ],
   "source": [
    "ngs_combined1=ngs_combined[(ngs_combined.Event=='punt_received')|(ngs_combined.Event=='out_of_bounds')|(ngs_combined.Event=='punt_downed')]\n",
    "ngs_combined1['Velocity']=ngs_combined1['dis']/0.1\n",
    "ngs_combined1.groupby('Primary_Impact_Type')['Velocity'].mean()\n",
    "\n",
    "ngs1_merge_non_injury=pd.merge(ngs1,involved_players,left_on=['Season_Year','GameKey','PlayID','GSISID'],right_on=['Season_Year','GameKey','PlayID','GSISID'],how='outer')\n",
    "ngs1_merge_non_injury_filt=ngs1_merge_non_injury[ngs1_merge_non_injury.Injured.isnull()]\n",
    "ngs1_merge_non_injury_filt=ngs1_merge_non_injury_filt[(ngs1_merge_non_injury_filt.Event=='punt_received')|(ngs1_merge_non_injury_filt.Event=='out_of_bounds')|(ngs1_merge_non_injury_filt.Event=='punt_downed')]\n",
    "ngs1_merge_non_injury_filt['Velocity']=ngs1_merge_non_injury_filt['dis']/0.1\n",
    "vel_li_non_injury=ngs1_merge_non_injury_filt['Velocity'].values\n",
    "\n",
    "ngs2_merge_non_injury=pd.merge(ngs2,involved_players,left_on=['Season_Year','GameKey','PlayID','GSISID'],right_on=['Season_Year','GameKey','PlayID','GSISID'],how='outer')\n",
    "ngs2_merge_non_injury_filt=ngs2_merge_non_injury[ngs2_merge_non_injury.Injured.isnull()]\n",
    "ngs2_merge_non_injury_filt=ngs2_merge_non_injury_filt[(ngs2_merge_non_injury_filt.Event=='punt_received')|(ngs2_merge_non_injury_filt.Event=='out_of_bounds')|(ngs2_merge_non_injury_filt.Event=='punt_downed')]\n",
    "ngs2_merge_non_injury_filt['Velocity']=ngs2_merge_non_injury_filt['dis']/0.1\n",
    "np.append(vel_li_non_injury,ngs2_merge_non_injury_filt['Velocity'].values)\n",
    "\n",
    "ngs3_merge_non_injury=pd.merge(ngs3,involved_players,left_on=['Season_Year','GameKey','PlayID','GSISID'],right_on=['Season_Year','GameKey','PlayID','GSISID'],how='outer')\n",
    "ngs3_merge_non_injury_filt=ngs3_merge_non_injury[ngs3_merge_non_injury.Injured.isnull()]\n",
    "ngs3_merge_non_injury_filt=ngs3_merge_non_injury_filt[(ngs3_merge_non_injury_filt.Event=='punt_received')|(ngs3_merge_non_injury_filt.Event=='out_of_bounds')|(ngs3_merge_non_injury_filt.Event=='punt_downed')]\n",
    "ngs3_merge_non_injury_filt['Velocity']=ngs3_merge_non_injury_filt['dis']/0.1\n",
    "np.append(vel_li_non_injury,ngs3_merge_non_injury_filt['Velocity'].values)\n",
    "\n",
    "ngs4_merge_non_injury=pd.merge(ngs4,involved_players,left_on=['Season_Year','GameKey','PlayID','GSISID'],right_on=['Season_Year','GameKey','PlayID','GSISID'],how='outer')\n",
    "ngs4_merge_non_injury_filt=ngs4_merge_non_injury[ngs4_merge_non_injury.Injured.isnull()]\n",
    "ngs4_merge_non_injury_filt=ngs4_merge_non_injury_filt[(ngs4_merge_non_injury_filt.Event=='punt_received')|(ngs4_merge_non_injury_filt.Event=='out_of_bounds')|(ngs4_merge_non_injury_filt.Event=='punt_downed')]\n",
    "ngs4_merge_non_injury_filt['Velocity']=ngs4_merge_non_injury_filt['dis']/0.1\n",
    "np.append(vel_li_non_injury,ngs4_merge_non_injury_filt['Velocity'].values)\n",
    "\n",
    "ngs5_merge_non_injury=pd.merge(ngs5,involved_players,left_on=['Season_Year','GameKey','PlayID','GSISID'],right_on=['Season_Year','GameKey','PlayID','GSISID'],how='outer')\n",
    "ngs5_merge_non_injury_filt=ngs5_merge_non_injury[ngs5_merge_non_injury.Injured.isnull()]\n",
    "ngs5_merge_non_injury_filt=ngs5_merge_non_injury_filt[(ngs5_merge_non_injury_filt.Event=='punt_received')|(ngs5_merge_non_injury_filt.Event=='out_of_bounds')|(ngs5_merge_non_injury_filt.Event=='punt_downed')]\n",
    "ngs5_merge_non_injury_filt['Velocity']=ngs5_merge_non_injury_filt['dis']/0.1\n",
    "np.append(vel_li_non_injury,ngs5_merge_non_injury_filt['Velocity'].values)\n",
    "\n",
    "vel_li_non_injury\n"
   ]
  },
  {
   "cell_type": "markdown",
   "metadata": {},
   "source": [
    "* Since there is no data showing the point in time when a player was hit, the data was filtered out to only include players who got a concussion as a result of a tackle.\n",
    "\n",
    "\n",
    "* The velocity that is displayed below is the velocity of players when \n",
    "    * A punt was received or\n",
    "    * A punt was downed or\n",
    "    * A punt was kicked out of bounds\n"
   ]
  },
  {
   "cell_type": "code",
   "execution_count": 67,
   "metadata": {},
   "outputs": [
    {
     "data": {
      "text/plain": [
       "Primary_Impact_Type\n",
       "Helmet-to-body      6.668750\n",
       "Helmet-to-ground    8.400000\n",
       "Helmet-to-helmet    4.594444\n",
       "Name: Velocity, dtype: float64"
      ]
     },
     "execution_count": 67,
     "metadata": {},
     "output_type": "execute_result"
    }
   ],
   "source": [
    "ngs_combined1.groupby('Primary_Impact_Type')['Velocity'].mean()"
   ]
  },
  {
   "cell_type": "markdown",
   "metadata": {},
   "source": [
    "* The average player velocity on a developed punt play is high on plays with concussions as seen above.\n",
    "\n",
    "\n",
    "* The boxplot below shows the average player velocity on a developed punt play on plays with no concussions:"
   ]
  },
  {
   "cell_type": "code",
   "execution_count": 53,
   "metadata": {},
   "outputs": [
    {
     "data": {
      "image/png": "[encoded data removed]",
      "text/plain": [
       "<Figure size 432x288 with 1 Axes>"
      ]
     },
     "metadata": {},
     "output_type": "display_data"
    }
   ],
   "source": [
    "sns.boxplot(vel_li_non_injury);\n",
    "plt.title('Average Player Velocity on Devoloped Punt Plays');\n",
    "plt.xlabel('Velocity (yds/sec)');"
   ]
  },
  {
   "cell_type": "code",
   "execution_count": 74,
   "metadata": {},
   "outputs": [
    {
     "name": "stdout",
     "output_type": "stream",
     "text": [
      "The average player velocity on a developed punt play on plays with no concussions is 5.83 yds/sec\n",
      "\n",
      "The average player velocity standard deviation on a developed punt play on plays with no concussions are 2.76 yds/sec\n"
     ]
    }
   ],
   "source": [
    "print('The average player velocity on a developed punt play on plays with no concussions is '+str(round(vel_li_non_injury.mean(),2))+ ' yds/sec')\n",
    "print()\n",
    "print('The average player velocity standard deviation on a developed punt play on plays with no concussions are '+str(round(vel_li_non_injury.std(),2))+ ' yds/sec')"
   ]
  },
  {
   "cell_type": "markdown",
   "metadata": {},
   "source": [
    "* For the players of focus in a punt formation near the line of scrimmage near the long snapper, their average velocities are in general faster during punt plays that have concussions."
   ]
  },
  {
   "cell_type": "code",
   "execution_count": 56,
   "metadata": {},
   "outputs": [
    {
     "data": {
      "image/png": "[encoded data removed]",
      "text/plain": [
       "<Figure size 432x288 with 1 Axes>"
      ]
     },
     "metadata": {},
     "output_type": "display_data"
    }
   ],
   "source": [
    "sns.kdeplot(vel_li_non_injury,bw=0.31,shade=True,label='Non-Injury Punt Plays')\n",
    "sns.kdeplot(ngs_combined1[ngs_combined1.Role.isin(los_pos)].Velocity,bw=0.3,color='r',label='Injury Punt Plays',shade=True)\n",
    "plt.xlim(0,10);\n",
    "plt.title('Player Velocity during Punt Plays');\n",
    "plt.xlabel('Velocity (yd/sec)');"
   ]
  },
  {
   "cell_type": "markdown",
   "metadata": {},
   "source": [
    "* For the velocities that are slower than 5 yds/sec, the main primary impact type were all helmet to helmet hits."
   ]
  },
  {
   "cell_type": "code",
   "execution_count": 76,
   "metadata": {},
   "outputs": [
    {
     "data": {
      "text/plain": [
       "Primary_Impact_Type\n",
       "Helmet-to-helmet    5\n",
       "Name: PlayID, dtype: int64"
      ]
     },
     "execution_count": 76,
     "metadata": {},
     "output_type": "execute_result"
    }
   ],
   "source": [
    "ngs_combined1[(ngs_combined1.Role.isin(los_pos))&(ngs_combined1.Velocity<5)].groupby('Primary_Impact_Type').count()['PlayID']"
   ]
  },
  {
   "cell_type": "markdown",
   "metadata": {},
   "source": [
    "* The data shows that for hits that occur at faster speeds, concussions are more likely.  However, for concussions that occur at slower speeds, helmet to helmet contact is the only causing factor.\n",
    "\n",
    "\n",
    "* With this said, even though the velocity statistics are not statistically different between punt plays with concussions versus those without, the punt play formation still needs to be changed to fundamentally help reduce the average player speed as much as possible to reduce concussion provoking plays.\n",
    "\n",
    "\n",
    "* To maintain the integrity of the game so that the resulting punt play is similar to the original, only the formation alignment will be changed to reduce the average player’s velocity on punt plays to help reduce concussions.\n"
   ]
  },
  {
   "cell_type": "markdown",
   "metadata": {},
   "source": [
    "# Proposed Rule Changes: \n",
    "  **Changing the Punt Formation**  "
   ]
  },
  {
   "cell_type": "markdown",
   "metadata": {},
   "source": [
    "* An area of interest is to identify the players who are most frequently involved in concussion inducing punt plays.\n",
    "\n",
    "\n",
    "* Concussion Player Involvement is identified as being a player who either experiences a concussion or whose contact triggers a concussion of another player.\n",
    "\n",
    "\n",
    "* Is important to understand which positions of a punt formation are more likely to have concussion player involvement and identify why those positions are more likely to induce concussions.\n"
   ]
  },
  {
   "cell_type": "markdown",
   "metadata": {},
   "source": [
    "# Proposed Rule Changes:\n",
    "   * Changing the Punt Formation:\n",
    "        * Concussion Player Involvement for Punt Coverage Formations"
   ]
  },
  {
   "cell_type": "markdown",
   "metadata": {},
   "source": [
    "### Making DataFrame that Shows Involved Players in Concussion Play"
   ]
  },
  {
   "cell_type": "code",
   "execution_count": 6,
   "metadata": {},
   "outputs": [],
   "source": [
    "df=pd.read_csv('../input/video_review.csv')\n",
    "role=pd.read_csv('../input/play_player_role_data.csv')\n",
    "\n",
    "injured_player=pd.merge(df,role,left_on=['Season_Year','GameKey','PlayID','GSISID'],right_on=['Season_Year','GameKey','PlayID','GSISID'])"
   ]
  },
  {
   "cell_type": "code",
   "execution_count": 7,
   "metadata": {},
   "outputs": [],
   "source": [
    "df.Primary_Partner_GSISID=df.Primary_Partner_GSISID.replace([np.nan,'Unclear'],0)\n",
    "df.Primary_Partner_GSISID=df.Primary_Partner_GSISID.map(int)"
   ]
  },
  {
   "cell_type": "code",
   "execution_count": 8,
   "metadata": {},
   "outputs": [],
   "source": [
    "involved_player=pd.merge(role,df,left_on=['Season_Year','GameKey','PlayID','GSISID'],right_on=['Season_Year','GameKey','PlayID','Primary_Partner_GSISID'])\n",
    "involved_player1=involved_player.rename(columns={'GSISID_x':'Involved_Player_GSISID','GSISID_y':'Injured_Player_GSISID'})\n",
    "\n",
    "injured_player2=injured_player[['Season_Year', 'GameKey', 'PlayID', 'GSISID','Role', 'Player_Activity_Derived',\n",
    "        'Primary_Impact_Type']]\n",
    "involved_player2=involved_player1[['Season_Year', 'GameKey', 'PlayID', 'Involved_Player_GSISID', 'Role','Player_Activity_Derived',\n",
    "                                   'Primary_Impact_Type']]\n",
    "\n",
    "involved_player2=involved_player2.rename(columns={'Involved_Player_GSISID':'GSISID'})\n",
    "\n",
    "involved_player2['Index']=np.arange(37,len(involved_player2)+37)\n",
    "involved_player2.set_index('Index',inplace=True)\n",
    "\n",
    "involved_player2['Injured']=0\n",
    "injured_player2['Injured']=1\n",
    "\n",
    "concussion_inv=pd.concat([injured_player2,involved_player2])"
   ]
  },
  {
   "cell_type": "markdown",
   "metadata": {},
   "source": [
    "* Below are the First 5 Rows of the DataFrame that shows the involved players of a concussion play along with their punt role.  The 'Injured' column allows the capability to easily filter the uninjured players from the injured ones."
   ]
  },
  {
   "cell_type": "code",
   "execution_count": 9,
   "metadata": {},
   "outputs": [
    {
     "data": {
      "text/html": [
       "<div>\n",
       "<style scoped>\n",
       "    .dataframe tbody tr th:only-of-type {\n",
       "        vertical-align: middle;\n",
       "    }\n",
       "\n",
       "    .dataframe tbody tr th {\n",
       "        vertical-align: top;\n",
       "    }\n",
       "\n",
       "    .dataframe thead th {\n",
       "        text-align: right;\n",
       "    }\n",
       "</style>\n",
       "<table border=\"1\" class=\"dataframe\">\n",
       "  <thead>\n",
       "    <tr style=\"text-align: right;\">\n",
       "      <th></th>\n",
       "      <th>Season_Year</th>\n",
       "      <th>GameKey</th>\n",
       "      <th>PlayID</th>\n",
       "      <th>GSISID</th>\n",
       "      <th>Role</th>\n",
       "      <th>Player_Activity_Derived</th>\n",
       "      <th>Primary_Impact_Type</th>\n",
       "      <th>Injured</th>\n",
       "    </tr>\n",
       "  </thead>\n",
       "  <tbody>\n",
       "    <tr>\n",
       "      <th>0</th>\n",
       "      <td>2016</td>\n",
       "      <td>5</td>\n",
       "      <td>3129</td>\n",
       "      <td>31057</td>\n",
       "      <td>PLW</td>\n",
       "      <td>Tackling</td>\n",
       "      <td>Helmet-to-body</td>\n",
       "      <td>1</td>\n",
       "    </tr>\n",
       "    <tr>\n",
       "      <th>1</th>\n",
       "      <td>2016</td>\n",
       "      <td>21</td>\n",
       "      <td>2587</td>\n",
       "      <td>29343</td>\n",
       "      <td>GL</td>\n",
       "      <td>Blocked</td>\n",
       "      <td>Helmet-to-helmet</td>\n",
       "      <td>1</td>\n",
       "    </tr>\n",
       "    <tr>\n",
       "      <th>2</th>\n",
       "      <td>2016</td>\n",
       "      <td>29</td>\n",
       "      <td>538</td>\n",
       "      <td>31023</td>\n",
       "      <td>GR</td>\n",
       "      <td>Tackling</td>\n",
       "      <td>Helmet-to-body</td>\n",
       "      <td>1</td>\n",
       "    </tr>\n",
       "    <tr>\n",
       "      <th>3</th>\n",
       "      <td>2016</td>\n",
       "      <td>45</td>\n",
       "      <td>1212</td>\n",
       "      <td>33121</td>\n",
       "      <td>PRT</td>\n",
       "      <td>Tackling</td>\n",
       "      <td>Helmet-to-body</td>\n",
       "      <td>1</td>\n",
       "    </tr>\n",
       "    <tr>\n",
       "      <th>4</th>\n",
       "      <td>2016</td>\n",
       "      <td>54</td>\n",
       "      <td>1045</td>\n",
       "      <td>32444</td>\n",
       "      <td>PRT</td>\n",
       "      <td>Blocked</td>\n",
       "      <td>Helmet-to-body</td>\n",
       "      <td>1</td>\n",
       "    </tr>\n",
       "  </tbody>\n",
       "</table>\n",
       "</div>"
      ],
      "text/plain": [
       "   Season_Year  GameKey  PlayID  GSISID Role Player_Activity_Derived  \\\n",
       "0         2016        5    3129   31057  PLW                Tackling   \n",
       "1         2016       21    2587   29343   GL                 Blocked   \n",
       "2         2016       29     538   31023   GR                Tackling   \n",
       "3         2016       45    1212   33121  PRT                Tackling   \n",
       "4         2016       54    1045   32444  PRT                 Blocked   \n",
       "\n",
       "  Primary_Impact_Type  Injured  \n",
       "0      Helmet-to-body        1  \n",
       "1    Helmet-to-helmet        1  \n",
       "2      Helmet-to-body        1  \n",
       "3      Helmet-to-body        1  \n",
       "4      Helmet-to-body        1  "
      ]
     },
     "execution_count": 9,
     "metadata": {},
     "output_type": "execute_result"
    }
   ],
   "source": [
    "concussion_inv.head()"
   ]
  },
  {
   "cell_type": "markdown",
   "metadata": {},
   "source": [
    "### Making graphic that shows the positions that are most frequently involved in concussions on punt plays."
   ]
  },
  {
   "cell_type": "code",
   "execution_count": 10,
   "metadata": {},
   "outputs": [],
   "source": [
    "role_injured=injured_player2.groupby('Role').count()[['GameKey']]\n",
    "role_part=involved_player2.groupby('Role').count()[['GameKey']]\n",
    "\n",
    "positions_li_cov=['GR','PRT','PRG','PLS','PLG','PLT','GL','PRW','PLW','PC','PPR','P']\n",
    "positions_li_ret=['VRo','VRi','PDR1','PDR2','PDR3','PDL3','PDL2','PDL1','VL',\n",
    "             'PLR','PLM','PLL','PFB','PR']\n",
    "\n",
    "los_pos=['PRT','PRG','PLS','PLG','PLT','PRW','PLW','PDR1','PDR2','PDR3','PDL3','PDL2','PDL1','PLR','PLM','PLL']\n",
    "\n",
    "df_pos=pd.DataFrame(role_part,index=(positions_li_ret+positions_li_cov),columns=['Count'])\n",
    "df_pos=df_pos.replace(np.nan,0)\n",
    "\n",
    "df_role_injured=pd.DataFrame(pd.merge(df_pos,role_injured,left_index=True,right_index=True,how='outer').sum(axis=1),columns=['Count'])\n",
    "\n",
    "role_part=role_part.rename(index={'PLL1':'PLL','VLo':'VL'})\n",
    "\n",
    "df_role_part=pd.DataFrame(pd.merge(df_pos,role_part,left_index=True,right_index=True,how='outer').sum(axis=1),columns=['Count'])\n",
    "\n",
    "df_role_injured.at['VRi']=1\n",
    "\n",
    "df_role_injured.drop('VR',inplace=True)\n",
    "\n",
    "df_pos_ovr=df_role_injured+df_role_part\n",
    "\n",
    "df_pos_ovr['Return']=[0,0,0,0,1,1,1,1,1,1,1,0,1,1,1,0,0,0,0,1,0,0,0,1,1,1]\n",
    "\n",
    "df_pos_ovr=df_pos_ovr.reindex((positions_li_cov+positions_li_ret))"
   ]
  },
  {
   "cell_type": "markdown",
   "metadata": {},
   "source": [
    "* Count Information of All the Punt Coverage and Return Formation Positions as specified by the Data Manual"
   ]
  },
  {
   "cell_type": "code",
   "execution_count": 146,
   "metadata": {},
   "outputs": [],
   "source": [
    "concussion_inv.to_csv(path+'concussion_inv.csv')"
   ]
  },
  {
   "cell_type": "code",
   "execution_count": 11,
   "metadata": {},
   "outputs": [
    {
     "data": {
      "text/html": [
       "<div>\n",
       "<style scoped>\n",
       "    .dataframe tbody tr th:only-of-type {\n",
       "        vertical-align: middle;\n",
       "    }\n",
       "\n",
       "    .dataframe tbody tr th {\n",
       "        vertical-align: top;\n",
       "    }\n",
       "\n",
       "    .dataframe thead th {\n",
       "        text-align: right;\n",
       "    }\n",
       "</style>\n",
       "<table border=\"1\" class=\"dataframe\">\n",
       "  <thead>\n",
       "    <tr style=\"text-align: right;\">\n",
       "      <th></th>\n",
       "      <th>Count</th>\n",
       "      <th>Return</th>\n",
       "    </tr>\n",
       "  </thead>\n",
       "  <tbody>\n",
       "    <tr>\n",
       "      <th>GR</th>\n",
       "      <td>5.0</td>\n",
       "      <td>0</td>\n",
       "    </tr>\n",
       "    <tr>\n",
       "      <th>PRT</th>\n",
       "      <td>4.0</td>\n",
       "      <td>0</td>\n",
       "    </tr>\n",
       "    <tr>\n",
       "      <th>PRG</th>\n",
       "      <td>6.0</td>\n",
       "      <td>0</td>\n",
       "    </tr>\n",
       "    <tr>\n",
       "      <th>PLS</th>\n",
       "      <td>3.0</td>\n",
       "      <td>0</td>\n",
       "    </tr>\n",
       "    <tr>\n",
       "      <th>PLG</th>\n",
       "      <td>5.0</td>\n",
       "      <td>0</td>\n",
       "    </tr>\n",
       "    <tr>\n",
       "      <th>PLT</th>\n",
       "      <td>4.0</td>\n",
       "      <td>0</td>\n",
       "    </tr>\n",
       "    <tr>\n",
       "      <th>GL</th>\n",
       "      <td>4.0</td>\n",
       "      <td>0</td>\n",
       "    </tr>\n",
       "    <tr>\n",
       "      <th>PRW</th>\n",
       "      <td>3.0</td>\n",
       "      <td>0</td>\n",
       "    </tr>\n",
       "    <tr>\n",
       "      <th>PLW</th>\n",
       "      <td>5.0</td>\n",
       "      <td>0</td>\n",
       "    </tr>\n",
       "    <tr>\n",
       "      <th>PC</th>\n",
       "      <td>0.0</td>\n",
       "      <td>0</td>\n",
       "    </tr>\n",
       "    <tr>\n",
       "      <th>PPR</th>\n",
       "      <td>2.0</td>\n",
       "      <td>0</td>\n",
       "    </tr>\n",
       "    <tr>\n",
       "      <th>P</th>\n",
       "      <td>1.0</td>\n",
       "      <td>0</td>\n",
       "    </tr>\n",
       "    <tr>\n",
       "      <th>VRo</th>\n",
       "      <td>0.0</td>\n",
       "      <td>1</td>\n",
       "    </tr>\n",
       "    <tr>\n",
       "      <th>VRi</th>\n",
       "      <td>1.0</td>\n",
       "      <td>1</td>\n",
       "    </tr>\n",
       "    <tr>\n",
       "      <th>PDR1</th>\n",
       "      <td>4.0</td>\n",
       "      <td>1</td>\n",
       "    </tr>\n",
       "    <tr>\n",
       "      <th>PDR2</th>\n",
       "      <td>2.0</td>\n",
       "      <td>1</td>\n",
       "    </tr>\n",
       "    <tr>\n",
       "      <th>PDR3</th>\n",
       "      <td>1.0</td>\n",
       "      <td>1</td>\n",
       "    </tr>\n",
       "    <tr>\n",
       "      <th>PDL3</th>\n",
       "      <td>0.0</td>\n",
       "      <td>1</td>\n",
       "    </tr>\n",
       "    <tr>\n",
       "      <th>PDL2</th>\n",
       "      <td>1.0</td>\n",
       "      <td>1</td>\n",
       "    </tr>\n",
       "    <tr>\n",
       "      <th>PDL1</th>\n",
       "      <td>2.0</td>\n",
       "      <td>1</td>\n",
       "    </tr>\n",
       "    <tr>\n",
       "      <th>VL</th>\n",
       "      <td>1.0</td>\n",
       "      <td>1</td>\n",
       "    </tr>\n",
       "    <tr>\n",
       "      <th>PLR</th>\n",
       "      <td>0.0</td>\n",
       "      <td>1</td>\n",
       "    </tr>\n",
       "    <tr>\n",
       "      <th>PLM</th>\n",
       "      <td>0.0</td>\n",
       "      <td>1</td>\n",
       "    </tr>\n",
       "    <tr>\n",
       "      <th>PLL</th>\n",
       "      <td>2.0</td>\n",
       "      <td>1</td>\n",
       "    </tr>\n",
       "    <tr>\n",
       "      <th>PFB</th>\n",
       "      <td>1.0</td>\n",
       "      <td>1</td>\n",
       "    </tr>\n",
       "    <tr>\n",
       "      <th>PR</th>\n",
       "      <td>13.0</td>\n",
       "      <td>1</td>\n",
       "    </tr>\n",
       "  </tbody>\n",
       "</table>\n",
       "</div>"
      ],
      "text/plain": [
       "      Count  Return\n",
       "GR      5.0       0\n",
       "PRT     4.0       0\n",
       "PRG     6.0       0\n",
       "PLS     3.0       0\n",
       "PLG     5.0       0\n",
       "PLT     4.0       0\n",
       "GL      4.0       0\n",
       "PRW     3.0       0\n",
       "PLW     5.0       0\n",
       "PC      0.0       0\n",
       "PPR     2.0       0\n",
       "P       1.0       0\n",
       "VRo     0.0       1\n",
       "VRi     1.0       1\n",
       "PDR1    4.0       1\n",
       "PDR2    2.0       1\n",
       "PDR3    1.0       1\n",
       "PDL3    0.0       1\n",
       "PDL2    1.0       1\n",
       "PDL1    2.0       1\n",
       "VL      1.0       1\n",
       "PLR     0.0       1\n",
       "PLM     0.0       1\n",
       "PLL     2.0       1\n",
       "PFB     1.0       1\n",
       "PR     13.0       1"
      ]
     },
     "execution_count": 11,
     "metadata": {},
     "output_type": "execute_result"
    }
   ],
   "source": [
    "df_pos_ovr"
   ]
  },
  {
   "cell_type": "markdown",
   "metadata": {},
   "source": [
    "* Graphic Showing the Positions that are most involved in the **Punt Coverage Formation** with the counts specified by <span style='color:blue'>blue</span>  to<span style='color:red'> red </span>color mapping:"
   ]
  },
  {
   "cell_type": "markdown",
   "metadata": {},
   "source": [
    "<span style='color:blue'>\n",
    "Low Involvement  </span> to\n",
    "<span style='color:red'>    \n",
    "Highly Involved </span>"
   ]
  },
  {
   "cell_type": "code",
   "execution_count": 12,
   "metadata": {},
   "outputs": [
    {
     "data": {
      "image/png": "[encoded data removed]",
      "text/plain": [
       "<Figure size 432x288 with 1 Axes>"
      ]
     },
     "metadata": {},
     "output_type": "display_data"
    }
   ],
   "source": [
    "#Punt Coverage\n",
    "fig = plt.figure()\n",
    "ax = fig.add_subplot(111)\n",
    "ax.axis('off')\n",
    "ovr=df_pos_ovr[df_pos_ovr.Return==0]\n",
    "\n",
    "x=[0,0.1,0.05,0,0.05,0.1,0,0.3,0.3,0.7,1.4,3]\n",
    "y=[10,6,5,4,3,2,-2,6.5,1.5,4,5,4]\n",
    "plt.scatter(x,y,c=df_pos_ovr[df_pos_ovr.Return==0]['Count'],cmap=cm.coolwarm)\n",
    "\n",
    "plt.tick_params(       \n",
    "    bottom=False,      \n",
    "    top=False,        \n",
    "    labelbottom=False,\n",
    "    left=False,\n",
    "    labelleft=False) \n",
    "\n",
    "counter=0\n",
    "for i,j in zip(x,y):\n",
    "    if i<0.7:\n",
    "        ax.annotate(ovr.index[counter], xy=(i,j), xytext=(-35,5), textcoords='offset points')\n",
    "    if i>=0.7:\n",
    "        ax.annotate(ovr.index[counter], xy=(i,j), xytext=(15,0), textcoords='offset points')\n",
    "    counter+=1\n",
    "plt.title('Punt Coverage Concussion Involvement');"
   ]
  },
  {
   "cell_type": "markdown",
   "metadata": {},
   "source": [
    "* As indicated from the Data, it can be seen majority of the players who are involved in concussion plays are at or near the line of scrimmage, which is 92.9%."
   ]
  },
  {
   "cell_type": "code",
   "execution_count": 78,
   "metadata": {},
   "outputs": [
    {
     "data": {
      "text/plain": [
       "0.929"
      ]
     },
     "execution_count": 78,
     "metadata": {},
     "output_type": "execute_result"
    }
   ],
   "source": [
    "cov_form_count=df_pos_ovr[((df_pos_ovr.index.isin(los_pos+['GR','GL'])))&(df_pos_ovr.Return==0)].sum()['Count']\n",
    "los_percent_cov=cov_form_count/df_pos_ovr[df_pos_ovr.Return==0].sum()['Count']\n",
    "round(los_percent_cov,3)"
   ]
  },
  {
   "cell_type": "markdown",
   "metadata": {},
   "source": [
    "* However, after calculating the gunners’ concussion involvement proportion from the players at or near the line of scrimmage, the percentage accounted for only 21.4% of those players involved in concussion inducing punt plays."
   ]
  },
  {
   "cell_type": "code",
   "execution_count": 79,
   "metadata": {},
   "outputs": [
    {
     "data": {
      "text/plain": [
       "0.214"
      ]
     },
     "execution_count": 79,
     "metadata": {},
     "output_type": "execute_result"
    }
   ],
   "source": [
    "cov_form_count_only_los=df_pos_ovr[((df_pos_ovr.index.isin(los_pos)))&(df_pos_ovr.Return==0)].sum()['Count']\n",
    "los_percent_cov_byball=los_percent_cov-cov_form_count_only_los/df_pos_ovr[df_pos_ovr.Return==0].sum()['Count']\n",
    "round(los_percent_cov_byball,3)"
   ]
  },
  {
   "cell_type": "markdown",
   "metadata": {},
   "source": [
    "* This indicates, that approximately 71.4% of players who are involved concussion inducing plays are at or near the line of scrimmage near the football snap location."
   ]
  },
  {
   "cell_type": "code",
   "execution_count": 80,
   "metadata": {},
   "outputs": [
    {
     "data": {
      "text/plain": [
       "0.714"
      ]
     },
     "execution_count": 80,
     "metadata": {},
     "output_type": "execute_result"
    }
   ],
   "source": [
    "round(los_percent_cov-los_percent_cov_byball,3)"
   ]
  },
  {
   "cell_type": "markdown",
   "metadata": {},
   "source": [
    "* Graphic Showing the Positions that are most involved in the **Punt Return Formation** with the counts specified by <span style='color:blue'>blue</span>  to<span style='color:red'> red </span>color mapping:"
   ]
  },
  {
   "cell_type": "markdown",
   "metadata": {},
   "source": [
    "<span style='color:blue'>\n",
    "Low Involvement  </span>to\n",
    "<span style='color:red'>    \n",
    "High Involvement </span>"
   ]
  },
  {
   "cell_type": "code",
   "execution_count": 16,
   "metadata": {},
   "outputs": [
    {
     "data": {
      "image/png": "[encoded data removed]",
      "text/plain": [
       "<Figure size 432x288 with 1 Axes>"
      ]
     },
     "metadata": {},
     "output_type": "display_data"
    }
   ],
   "source": [
    "#Punt Return\n",
    "fig = plt.figure()\n",
    "ax = fig.add_subplot(111)\n",
    "ovr=df_pos_ovr[df_pos_ovr.Return==1]\n",
    "\n",
    "ax.axis('off')\n",
    "\n",
    "x=[0,0,0,0,0,0,0,0,0,1,1,1,6,8]\n",
    "y=[10,9,6,5,4,3,2,1,-2,5.5,4.5,3.5,4.5,4.5]\n",
    "plt.scatter(x,y,c=ovr['Count'],cmap=cm.coolwarm)\n",
    "\n",
    "\n",
    "plt.tick_params(       \n",
    "    bottom=False,      \n",
    "    top=False,        \n",
    "    labelbottom=False,\n",
    "    left=False,\n",
    "    labelleft=False) \n",
    "\n",
    "counter=0\n",
    "for i,j in zip(x,y):\n",
    "    if i==0:\n",
    "\n",
    "        ax.annotate(ovr.index[counter], xy=(i,j), xytext=(-35,5), textcoords='offset points')\n",
    "    else:\n",
    "\n",
    "        ax.annotate(ovr.index[counter], xy=(i,j), xytext=(15,5), textcoords='offset points')\n",
    "    \n",
    "    \n",
    "    counter+=1\n",
    "plt.title('Punt Return Concussion Involvement');"
   ]
  },
  {
   "cell_type": "markdown",
   "metadata": {},
   "source": [
    "* As indicated from the data, it can be seen that the most frequent position of concussion involvement is the PR position, the position that fields the punts.  \n",
    "\n",
    "* The proportion for that position alone accounts for approximately 46.4% of all concussion involved players that are in the return formation.\n",
    "\n",
    "* It makes sense that the most frequent position of involvement in concussion inducing plays is the PR position because that is the main focus of protection/attack once the PR fields the ball."
   ]
  },
  {
   "cell_type": "code",
   "execution_count": 82,
   "metadata": {},
   "outputs": [
    {
     "data": {
      "text/plain": [
       "0.464"
      ]
     },
     "execution_count": 82,
     "metadata": {},
     "output_type": "execute_result"
    }
   ],
   "source": [
    "return_form_count=df_pos_ovr[(df_pos_ovr.index.isin(['PR']))&(df_pos_ovr.Return==1)].sum()['Count']\n",
    "round(return_form_count/df_pos_ovr[df_pos_ovr.Return==1].sum()['Count'],3)"
   ]
  },
  {
   "cell_type": "markdown",
   "metadata": {},
   "source": [
    "* The proportion of players involved in concussion inducing plays that are at or near the line of scrimmage and take on blockers only account for nearly 43% of the involved players that are in the return formation."
   ]
  },
  {
   "cell_type": "code",
   "execution_count": 83,
   "metadata": {},
   "outputs": [
    {
     "data": {
      "text/plain": [
       "0.429"
      ]
     },
     "execution_count": 83,
     "metadata": {},
     "output_type": "execute_result"
    }
   ],
   "source": [
    "return_form_count=df_pos_ovr[(df_pos_ovr.index.isin(los_pos))&(df_pos_ovr.Return==1)].sum()['Count']\n",
    "round(return_form_count/df_pos_ovr[df_pos_ovr.Return==1].sum()['Count'],3)"
   ]
  },
  {
   "cell_type": "markdown",
   "metadata": {},
   "source": [
    "## Overall Concussion Involvement"
   ]
  },
  {
   "cell_type": "markdown",
   "metadata": {},
   "source": [
    "* Including the PR position, players at or near the line of scrimmage in the trenches account for 60% of all players involved in concussion inducing events."
   ]
  },
  {
   "cell_type": "code",
   "execution_count": 19,
   "metadata": {},
   "outputs": [
    {
     "data": {
      "text/plain": [
       "0.6"
      ]
     },
     "execution_count": 19,
     "metadata": {},
     "output_type": "execute_result"
    }
   ],
   "source": [
    "df_pos_ovr[df_pos_ovr.index.isin(los_pos)].sum()['Count']/df_pos_ovr['Count'].sum()"
   ]
  },
  {
   "cell_type": "markdown",
   "metadata": {},
   "source": [
    "* Without accounting for the PR position, players at or near the line of scrimmage in the trenches account for 73.7% of all players involved in concussion inducing events.\n",
    "\n",
    "* Due to such a high proportion of involvement, any changes that need to be made, need to be focused on these players at or near the line of scrimmage by the ball snap location."
   ]
  },
  {
   "cell_type": "code",
   "execution_count": 84,
   "metadata": {
    "scrolled": true
   },
   "outputs": [
    {
     "name": "stdout",
     "output_type": "stream",
     "text": [
      "PR\n"
     ]
    },
    {
     "data": {
      "text/plain": [
       "0.737"
      ]
     },
     "execution_count": 84,
     "metadata": {},
     "output_type": "execute_result"
    }
   ],
   "source": [
    "print(df_pos_ovr.iloc[-1].name)\n",
    "round(df_pos_ovr[df_pos_ovr.index.isin(los_pos)].sum()['Count']/df_pos_ovr['Count'].iloc[:-1].sum(),3)"
   ]
  },
  {
   "cell_type": "markdown",
   "metadata": {},
   "source": [
    "# Proposed Rule Changes\n",
    "   * Changing the Punt Formation:\n",
    "        * Cause of Concussion Involvement"
   ]
  },
  {
   "cell_type": "markdown",
   "metadata": {},
   "source": [
    "* Comparing the velocity of the players that are at or near the line of scrimmage by the snap location (or punt non-gunners) to the gunner players, it is seen that their velocities are in general faster at the time when punt plays are fair caught or are fielded."
   ]
  },
  {
   "cell_type": "markdown",
   "metadata": {},
   "source": [
    "### Making the appropriate datasets for this analysis."
   ]
  },
  {
   "cell_type": "code",
   "execution_count": 116,
   "metadata": {},
   "outputs": [],
   "source": [
    "ngs1_fair_catch=ngs1[ngs1.Event=='fair_catch']\n",
    "ngs2_fair_catch=ngs2[ngs2.Event=='fair_catch']\n",
    "ngs3_fair_catch=ngs3[ngs3.Event=='fair_catch']\n",
    "ngs4_fair_catch=ngs4[ngs4.Event=='fair_catch']\n",
    "ngs5_fair_catch=ngs5[ngs5.Event=='fair_catch']"
   ]
  },
  {
   "cell_type": "code",
   "execution_count": 117,
   "metadata": {},
   "outputs": [],
   "source": [
    "injured_player['Injured']=1\n",
    "injured_player=injured_player[['Season_Year','GameKey','PlayID','Injured']]"
   ]
  },
  {
   "cell_type": "code",
   "execution_count": 118,
   "metadata": {},
   "outputs": [],
   "source": [
    "fin_fair_catch=pd.concat([ngs1_fair_catch,ngs2_fair_catch,ngs3_fair_catch,ngs4_fair_catch,ngs5_fair_catch])"
   ]
  },
  {
   "cell_type": "code",
   "execution_count": 119,
   "metadata": {},
   "outputs": [],
   "source": [
    "merged_fair_catch=pd.merge(role,fin_fair_catch,left_on=['Season_Year','GameKey','PlayID','GSISID'],right_on=['Season_Year','GameKey','PlayID','GSISID'])\n",
    "merged_fair_catch=pd.merge(merged_fair_catch,injured_player,left_on=['Season_Year','GameKey','PlayID'],right_on=['Season_Year','GameKey','PlayID'],how='left')\n",
    "merged_fair_catch['Injured']=merged_fair_catch['Injured'].fillna(0)\n",
    "merged_fair_catch['Velocity']=merged_fair_catch['dis']/0.1"
   ]
  },
  {
   "cell_type": "code",
   "execution_count": 120,
   "metadata": {},
   "outputs": [],
   "source": [
    "gunner=['VRo','VRi','VL','GR','GL']\n",
    "los_pos=['PRT','PRG','PLS','PLG','PLT','PRW','PLW','PDR1','PDR2','PDR3','PDL3','PDL2','PDL1','PLR','PLM','PLL']"
   ]
  },
  {
   "cell_type": "code",
   "execution_count": 121,
   "metadata": {},
   "outputs": [],
   "source": [
    "merged_fair_catch_non_gunner=merged_fair_catch[merged_fair_catch.Role.isin(los_pos)][['Velocity']]\n",
    "merged_fair_catch_gunner=merged_fair_catch[merged_fair_catch.Role.isin(gunner)][['Velocity']]"
   ]
  },
  {
   "cell_type": "markdown",
   "metadata": {},
   "source": [
    "* Comparing the velocity of the players that are at or near the line of scrimmage by the snap location (or punt non-gunners) to the gunner players, it is seen that their velocities are in general faster at the time when punt plays are fair caught.\n",
    "\n",
    "* A reason for this is because the gunners get to the punt returner rather quickly so that they in most cases have to slow down, whereas the other players are playing ‘catch up’ to the gunners and therefore they are on average faster during those times."
   ]
  },
  {
   "cell_type": "code",
   "execution_count": 133,
   "metadata": {},
   "outputs": [
    {
     "data": {
      "image/png": "[encoded data removed]",
      "text/plain": [
       "<Figure size 432x288 with 1 Axes>"
      ]
     },
     "metadata": {},
     "output_type": "display_data"
    }
   ],
   "source": [
    "sns.boxplot(merged_fair_catch_gunner.Velocity);\n",
    "plt.title('Velocity of Punt Gunners during Fair Caught Punts');\n",
    "plt.savefig('C:/Users/blake.gonthier/Desktop/NFL Punt Analytics/Viz/punt_gunner_velocity.png')"
   ]
  },
  {
   "cell_type": "code",
   "execution_count": 135,
   "metadata": {},
   "outputs": [
    {
     "name": "stdout",
     "output_type": "stream",
     "text": [
      "Punt Gunners average velocity at time of when a punt if fair caught or is fielded: 5.66 yds/sec.\n"
     ]
    }
   ],
   "source": [
    "print('Punt Gunners average velocity at time of when a punt if fair caught or is fielded: '+str(round(merged_fair_catch_gunner.Velocity.mean(),2))+' yds/sec.')"
   ]
  },
  {
   "cell_type": "code",
   "execution_count": 132,
   "metadata": {},
   "outputs": [
    {
     "data": {
      "image/png": "[encoded data removed]",
      "text/plain": [
       "<Figure size 432x288 with 1 Axes>"
      ]
     },
     "metadata": {},
     "output_type": "display_data"
    }
   ],
   "source": [
    "sns.boxplot(merged_fair_catch_non_gunner.Velocity,color='r');\n",
    "plt.title('Velocity of Punt Non-Gunners during Fair Caught Punts');"
   ]
  },
  {
   "cell_type": "code",
   "execution_count": 134,
   "metadata": {},
   "outputs": [
    {
     "name": "stdout",
     "output_type": "stream",
     "text": [
      "Punt Gunners average velocity at time of when a punt if fair caught or is fielded: 6.67 yds/sec.\n"
     ]
    }
   ],
   "source": [
    "print('Punt Gunners average velocity at time of when a punt if fair caught or is fielded: '+str(round(merged_fair_catch_non_gunner.Velocity.mean(),2))+' yds/sec.')"
   ]
  },
  {
   "cell_type": "markdown",
   "metadata": {},
   "source": [
    "### Checking if there is a statisically proven difference between the velocities of players who are gunners versus those who are not."
   ]
  },
  {
   "cell_type": "code",
   "execution_count": 136,
   "metadata": {},
   "outputs": [
    {
     "data": {
      "text/plain": [
       "Ttest_indResult(statistic=array([19.61429044]), pvalue=array([2.47525055e-81]))"
      ]
     },
     "execution_count": 136,
     "metadata": {},
     "output_type": "execute_result"
    }
   ],
   "source": [
    "ttest_ind(merged_fair_catch_non_gunner,merged_fair_catch_gunner,equal_var=False)"
   ]
  },
  {
   "cell_type": "markdown",
   "metadata": {},
   "source": [
    "* Statistically proving that both of these samples of velocities between the punt gunners and the punt non-gunners, a 2 sample independent t-test was used\n",
    "\n",
    "\n",
    "* The test gave a p-value of 2.47e-81.  That means that both of these samples statistically have a different velocity population.\n",
    "\n",
    "\n",
    "* Therefore, the gunner position is statistically slower at the time when a punt is fair caught or fielded than the non-gunner positions that are at or near the line of scrimmage by the ball snap location.\n"
   ]
  },
  {
   "cell_type": "markdown",
   "metadata": {},
   "source": [
    "# Proposed Rule Changes\n",
    "## Changing the Punt Formation: \n",
    "### Proposed Solution"
   ]
  },
  {
   "cell_type": "markdown",
   "metadata": {},
   "source": [
    "* It would comprise of reducing the allowed number of players at or near the line of scrimmage by the ball snap location for both the return team and the coverage team.\n",
    "\n",
    "\n",
    "* Currently there are at least 10 players at or near the line of scrimmage by the ball snap location.\n",
    "\n",
    "\n",
    "* By allowing only 8 players in this area, this will reduce the number of players who are running full speed down the field.\n"
   ]
  },
  {
   "cell_type": "code",
   "execution_count": 137,
   "metadata": {},
   "outputs": [
    {
     "data": {
      "image/png": "[encoded data removed]",
      "text/plain": [
       "<Figure size 432x288 with 1 Axes>"
      ]
     },
     "metadata": {},
     "output_type": "display_data"
    },
    {
     "data": {
      "image/png": "[encoded data removed]",
      "text/plain": [
       "<Figure size 432x288 with 1 Axes>"
      ]
     },
     "metadata": {},
     "output_type": "display_data"
    }
   ],
   "source": [
    "#Punt Return\n",
    "number=np.arange(1,12)\n",
    "fig = plt.figure()\n",
    "ax = fig.add_subplot(111)\n",
    "ovr=df_pos_ovr[df_pos_ovr.Return==1]\n",
    "\n",
    "ax.axis('off')\n",
    "\n",
    "\n",
    "\n",
    "x=[0,0,0,0,0,0,0,0.2,0.7,0.7,1]\n",
    "y=[10,9,4,3,2,-2,-3,3,3.5,2.5,3]\n",
    "\n",
    "\n",
    "plt.scatter(x,y)\n",
    "\n",
    "\n",
    "plt.tick_params(       \n",
    "    bottom=False,      \n",
    "    top=False,        \n",
    "    labelbottom=False,\n",
    "    left=False,\n",
    "    labelleft=False)\n",
    "\n",
    "label_x=[0,0,0,0.2]\n",
    "label_y=[4,3,2,3]\n",
    "\n",
    "counter=0\n",
    "for i,j in zip(label_x,label_y):\n",
    "    ax.annotate(number[counter], xy=(i,j), xytext=(15,5), textcoords='offset points')\n",
    "\n",
    "    \n",
    "    counter+=1\n",
    "plt.title('Punt Return Formation Proposal');\n",
    "\n",
    "#Punt Coverage\n",
    "number=np.arange(1,12)\n",
    "fig = plt.figure()\n",
    "ax = fig.add_subplot(111)\n",
    "ax.axis('off')\n",
    "ovr=df_pos_ovr[df_pos_ovr.Return==0]\n",
    "\n",
    "# x=[0,-0.1,-0.05,0,-0.05,-0.1,0,-0.3,-0.3,-0.7,-1.4,-3]\n",
    "# y=[10,6,5,4,3,2,-2,6.5,1.5,4,5,4]\n",
    "\n",
    "x=-0.1,-0.1,-5,-2,-2\n",
    "y=1,-1,0,1.5,-1.5\n",
    "\n",
    "x=[0,0,-0.2,-0.1,0,-0.1,0,0,-2,-2,-5]\n",
    "y=[10,9,1,0,-1,-2,-9,-10,1.5,-1.5,0]\n",
    "plt.scatter(x,y,c='g')\n",
    "\n",
    "plt.tick_params(       \n",
    "    bottom=False,      \n",
    "    top=False,        \n",
    "    labelbottom=False,\n",
    "    left=False,\n",
    "    labelleft=False) \n",
    "\n",
    "counter=0\n",
    "label_x=[-0.2,-0.1,0,-0.1]\n",
    "label_y=[1,0,-1,-2]\n",
    "for i,j in zip(label_x,label_y):\n",
    "    ax.annotate(number[counter], xy=(i,j), xytext=(-20,0), textcoords='offset points')\n",
    "\n",
    "    counter+=1\n",
    "plt.title('Punt Coverage Formation Proposal');"
   ]
  },
  {
   "cell_type": "markdown",
   "metadata": {},
   "source": [
    "### Proposed Solution Consequences:\n",
    "\n",
    "\n",
    "* Would increase the number of fair catches \n",
    "\n",
    "\n",
    "* Should limit the number of punts fielded\n",
    "\n",
    "\n",
    "\n",
    "* Would limit the number of concussions experienced by the punt returner\n",
    "\n",
    "\n",
    "* More teams will line up players who are not typical blockers or rushers in the gunner position, which would reduce the collision force.\n",
    "\n",
    "\n",
    "* Still gives the punt returner a chance to field the punt so the punt play is still preserved\n",
    "Less Dense Field in specific parts of the field to avoid accidental collisions between players\n"
   ]
  },
  {
   "cell_type": "markdown",
   "metadata": {},
   "source": [
    "# Conclusion"
   ]
  },
  {
   "cell_type": "markdown",
   "metadata": {},
   "source": [
    "* The NFL needs to focus on enforcing stricter penalties for leading with the helmet on contact plays:\n",
    "    * First review can be done to establish intent of the helmet leading tackle or block of which will either confirm or reverse the call.\n",
    "    * If a player is charged with two targeting calls, then the player is removed from the game.\n",
    "\n",
    "\n",
    "* The NFL needs to enforce a particular type of punt return or punt coverage formation to reduce the velocities of players on punts:\n",
    "    * Limit the number of players allowed near the ball snap location to 4 players per team \n"
   ]
  }
 ],
 "metadata": {
  "kernelspec": {
   "display_name": "Python 3",
   "language": "python",
   "name": "python3"
  },
  "language_info": {
   "codemirror_mode": {
    "name": "ipython",
    "version": 3
   },
   "file_extension": ".py",
   "mimetype": "text/x-python",
   "name": "python",
   "nbconvert_exporter": "python",
   "pygments_lexer": "ipython3",
   "version": "3.6.4"
  }
 },
 "nbformat": 4,
 "nbformat_minor": 2
}

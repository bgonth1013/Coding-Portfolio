{
 "cells": [
  {
   "cell_type": "code",
   "execution_count": 1,
   "metadata": {},
   "outputs": [],
   "source": [
    "import requests\n",
    "\n",
    "import pandas as pd\n",
    "import numpy as np\n",
    "\n",
    "import time\n",
    "import datetime\n",
    "\n",
    "import urllib\n",
    "\n",
    "import re\n",
    "\n",
    "import warnings\n",
    "\n",
    "from os.path import join\n",
    "\n",
    "import nltk\n",
    "from wordcloud import WordCloud\n",
    "\n",
    "import matplotlib.pyplot as plt\n",
    "\n",
    "warnings.filterwarnings('ignore')\n",
    "\n",
    "path='C:/Users/blake.gonthier/Desktop/DataQuest/APIs/'"
   ]
  },
  {
   "cell_type": "markdown",
   "metadata": {},
   "source": [
    "* Reading in API key to access the New York Times API"
   ]
  },
  {
   "cell_type": "code",
   "execution_count": 2,
   "metadata": {},
   "outputs": [],
   "source": [
    "with open(join(path,'nyt.txt')) as f:\n",
    "    file=f.read()\n",
    "    f.close()\n",
    "    \n",
    "li=file.split('\\n')\n",
    "params={}\n",
    "for i in range(0,len(li),3):\n",
    "    counter=i\n",
    "    try:\n",
    "        params[li[counter]]=li[counter+1]\n",
    "    except IndexError:\n",
    "        pass"
   ]
  },
  {
   "cell_type": "markdown",
   "metadata": {},
   "source": [
    "* Function that allows you to make API Calls to the NYT API\n",
    "    - Was used since requests.get function did not grant successful authentication"
   ]
  },
  {
   "cell_type": "code",
   "execution_count": 3,
   "metadata": {},
   "outputs": [],
   "source": [
    "key={'api-key':params['API Key']}"
   ]
  },
  {
   "cell_type": "markdown",
   "metadata": {},
   "source": [
    "* Error code of 401 shows that permission was denied."
   ]
  },
  {
   "cell_type": "code",
   "execution_count": 4,
   "metadata": {},
   "outputs": [
    {
     "data": {
      "text/plain": [
       "401"
      ]
     },
     "execution_count": 4,
     "metadata": {},
     "output_type": "execute_result"
    }
   ],
   "source": [
    "response=requests.get('https://api.nytimes.com/svc/mostpopular/v2/emailed/7.json?',headers=key)\n",
    "response.status_code"
   ]
  },
  {
   "cell_type": "markdown",
   "metadata": {},
   "source": [
    "* The function below allows the user to make calls to the below APIs that NYT has:\n",
    "        1. Article Search API\n",
    "        2. Books API\n",
    "        3. Most Popular API\n",
    "        \n",
    "* The input is the API to call, the following API key that was associated with my account, and a query_dic that supplies optional arguments to the query.\n",
    "\n",
    "\n",
    "* Once run depending on the API called, specific input is required based on each API's structure in order to make the correct API call."
   ]
  },
  {
   "cell_type": "code",
   "execution_count": 5,
   "metadata": {},
   "outputs": [],
   "source": [
    "def call_nyt_api(api,api_key,query_dic):\n",
    "    \n",
    "    \n",
    "    query_dic['api-key']=api_key\n",
    "    \n",
    "    base_string='https://api.nytimes.com/svc/'\n",
    "    \n",
    "    api_strings={'Article Search Api': 'search/v2/articlesearch.json?','Books Api':'books/v3/',\n",
    "                'Most Popular Api':'mostpopular/v2/'}\n",
    "    \n",
    "    if api=='Most Popular Api':\n",
    "        \n",
    "        while True:\n",
    "            type_pop=input('Which most popular api do you want to view?\\nBy emailed, By shared, or By viewed?\\n')\n",
    "            print()\n",
    "            li=['emailed','shared','viewed']\n",
    "            \n",
    "            if type_pop in li:\n",
    "                break\n",
    "        \n",
    "        json_files={'last day':'1.json?','last 7 days':'7.json?','last 30 days':'30.json?','facebook':'facebook.json?'}\n",
    "        while True:\n",
    "            total_pop=input('Do you want to see the results from the:\\nlast day, last 7 days, last 30 days, or from Facebook?\\n')\n",
    "            print()\n",
    "            li=['last day','last 7 days','last 30 days','Facebook']\n",
    "            \n",
    "            \n",
    "            if total_pop in li:\n",
    "                break\n",
    "        if total_pop!='Facebook':    \n",
    "            add=type_pop+'/'+json_files[total_pop]\n",
    "            api_call=api_strings[api]+add\n",
    "        else:\n",
    "            \n",
    "            while True:\n",
    "                days_ago=input('From how many days ago would you like to view the most '+type_pop+' articles on Facebook?\\n')\n",
    "                print()\n",
    "                try:\n",
    "                    days_ago=int(days_ago)\n",
    "                    break\n",
    "                except Exception as e:\n",
    "                    print(e)\n",
    "                    \n",
    "            \n",
    "            add=type_pop+'/'+str(days_ago)+'/'+json_files['facebook']\n",
    "            api_call=api_strings[api]+add\n",
    "            \n",
    "        api_call+=urllib.parse.urlencode(query_dic)\n",
    "        api_call=base_string+api_call\n",
    "            \n",
    "    elif api=='Books Api':\n",
    "        \n",
    "        while True:\n",
    "            type_api=input('Select which part of the Books Api you would like to access:\\nLists or Reviews\\n')\n",
    "            print()\n",
    "            if type_api in ['Lists','Reviews']:\n",
    "                break\n",
    "                \n",
    "        if type_api=='Lists':\n",
    "            print(str(set(list_names)))\n",
    "            while True:\n",
    "                book_li=input('Please Select a book type from above:\\n')\n",
    "                print()\n",
    "                if book_li in list_names:\n",
    "                    break\n",
    "            book_li=book_li.lower().replace(' ','-')\n",
    "            api_call=base_string+api_strings['Books Api']+'lists/current/'+book_li+'.json?'\n",
    "\n",
    "\n",
    "            api_call+=urllib.parse.urlencode(query_dic)\n",
    "\n",
    "        else:\n",
    "           \n",
    "            api_call=base_string+api_strings[api]+'reviews.json?'\n",
    "            urlencode=urllib.parse.urlencode(query_dic)\n",
    "            urlencode=urlencode.replace('+','%20')\n",
    "            api_call+=urlencode\n",
    "            \n",
    "    elif api=='Article Search Api':\n",
    "        \n",
    "        api_call=base_string+api_strings[api]\n",
    "        urlencode=urllib.parse.urlencode(query_dic)\n",
    "        api_call+=urlencode\n",
    "        \n",
    "            \n",
    "    \n",
    "    response=requests.get(api_call)\n",
    "    # Ensuring the API Key isn't printed out\n",
    "    api_hashed=re.sub('api-key=.*','api-key=mykey',api_call)\n",
    "    print('API Call URL:')\n",
    "    print(api_hashed)\n",
    "    print()\n",
    "    print('Response Status Code:')\n",
    "    print(response.status_code)\n",
    "    return response\n",
    "        "
   ]
  },
  {
   "cell_type": "markdown",
   "metadata": {},
   "source": [
    "* The example below calls the Most Popular API from the NYT, supplies the API Key asscociated with my account, and has no query dictionary input.\n",
    "\n",
    "\n",
    "* The below output shows the corresponding input for this specific API, along with the final API call link and the response status code.\n",
    "\n",
    "\n",
    "* The status code is 200 meaning that the API request was fulfilled."
   ]
  },
  {
   "cell_type": "code",
   "execution_count": 6,
   "metadata": {},
   "outputs": [
    {
     "name": "stdout",
     "output_type": "stream",
     "text": [
      "Which most popular api do you want to view?\n",
      "By emailed, By shared, or By viewed?\n",
      "emailed\n",
      "\n",
      "Do you want to see the results from the:\n",
      "last day, last 7 days, last 30 days, or from Facebook?\n",
      "last day\n",
      "\n",
      "API Call URL:\n",
      "https://api.nytimes.com/svc/mostpopular/v2/emailed/1.json?api-key=mykey\n",
      "\n",
      "Response Status Code:\n",
      "200\n"
     ]
    }
   ],
   "source": [
    "response=call_nyt_api('Most Popular Api',params['API Key'],{})"
   ]
  },
  {
   "cell_type": "markdown",
   "metadata": {},
   "source": [
    "* Making a dataframe of results:"
   ]
  },
  {
   "cell_type": "code",
   "execution_count": 7,
   "metadata": {},
   "outputs": [],
   "source": [
    "df=pd.DataFrame(response.json()['results'])"
   ]
  },
  {
   "cell_type": "code",
   "execution_count": 8,
   "metadata": {},
   "outputs": [
    {
     "data": {
      "text/plain": [
       "(20, 24)"
      ]
     },
     "execution_count": 8,
     "metadata": {},
     "output_type": "execute_result"
    }
   ],
   "source": [
    "df.shape"
   ]
  },
  {
   "cell_type": "code",
   "execution_count": 9,
   "metadata": {},
   "outputs": [
    {
     "data": {
      "text/plain": [
       "Index(['abstract', 'adx_keywords', 'asset_id', 'byline', 'column',\n",
       "       'count_type', 'des_facet', 'email_count', 'eta_id', 'geo_facet', 'id',\n",
       "       'media', 'nytdsection', 'org_facet', 'per_facet', 'published_date',\n",
       "       'section', 'source', 'subsection', 'title', 'type', 'updated', 'uri',\n",
       "       'url'],\n",
       "      dtype='object')"
      ]
     },
     "execution_count": 9,
     "metadata": {},
     "output_type": "execute_result"
    }
   ],
   "source": [
    "df.columns"
   ]
  },
  {
   "cell_type": "markdown",
   "metadata": {},
   "source": [
    "* Making a word cloud for the abstract of all of the popular emailed articles:"
   ]
  },
  {
   "cell_type": "code",
   "execution_count": 10,
   "metadata": {},
   "outputs": [],
   "source": [
    "combined=''\n",
    "\n",
    "for a in df['abstract'].map(lambda x:nltk.word_tokenize(x)).values:\n",
    "    new=''\n",
    "    for b in a:\n",
    "        new+=b+' '\n",
    "    combined+=new"
   ]
  },
  {
   "cell_type": "code",
   "execution_count": 11,
   "metadata": {},
   "outputs": [
    {
     "data": {
      "image/png": "[encoded data removed]",
      "text/plain": [
       "<Figure size 432x288 with 1 Axes>"
      ]
     },
     "metadata": {},
     "output_type": "display_data"
    }
   ],
   "source": [
    "wordcloud=WordCloud().generate(combined)\n",
    "plt.imshow(wordcloud)\n",
    "plt.axis('off')\n",
    "plt.show()"
   ]
  },
  {
   "cell_type": "markdown",
   "metadata": {},
   "source": [
    "* Filtering out the rows of the dataframe that contain the most popular words:\n",
    "    1. Will\n",
    "    2. New\n",
    "    3. Life\n",
    "    4. Group"
   ]
  },
  {
   "cell_type": "code",
   "execution_count": 12,
   "metadata": {},
   "outputs": [],
   "source": [
    "def detect_words(string,words):\n",
    "    \n",
    "    parse=string.split(' ')\n",
    "    \n",
    "    for a in parse:\n",
    "        if a in words:\n",
    "            return True\n",
    "    \n",
    "    return False"
   ]
  },
  {
   "cell_type": "code",
   "execution_count": 13,
   "metadata": {},
   "outputs": [],
   "source": [
    "filt=df[df['abstract'].map(lambda x:detect_words(x,['will','new','women','life','group']))]"
   ]
  },
  {
   "cell_type": "markdown",
   "metadata": {},
   "source": [
    "* Printing out the results:"
   ]
  },
  {
   "cell_type": "code",
   "execution_count": 14,
   "metadata": {},
   "outputs": [
    {
     "name": "stdout",
     "output_type": "stream",
     "text": [
      "Don’t plan to visit MoMA this summer. It’s closing for renovations that will put a new focus on work by women and artists of color. The results will shake up every gallery.\n",
      "\n",
      "Winsomely captured in poems and song, the birds are yielding new secrets about their astounding beaks and penchant for violence.\n",
      "\n",
      "New year, new you, right? You may be headed to the gym, but what about the health of your phone, computer and all your precious data? Here are some tips to get your digital life in order.\n",
      "\n",
      "A small group of well-educated professionals enjoys rising wages, while most workers toil in low-wage jobs with few chances to advance.\n",
      "\n",
      "As mental health problems among children increase, the government will try having students practice mindfulness, relaxation and breathing exercises.\n",
      "\n",
      "Mary Pipher’s “Women Rowing North” celebrates the unacknowledged talents and wisdom of older women — a demographic increasingly in the limelight.\n",
      "\n",
      "Boredom teaches us that life isn’t a parade of amusements. More important, it spawns creativity and self-sufficiency.\n",
      "\n",
      "The underdoggery and romance of my childhood are out. Dynastic rule and the creation of a great new American institution are in.\n",
      "\n"
     ]
    }
   ],
   "source": [
    "for a in filt.abstract:\n",
    "    print(a)\n",
    "    print()"
   ]
  },
  {
   "cell_type": "markdown",
   "metadata": {},
   "source": [
    "# Making Other API Calls:"
   ]
  },
  {
   "cell_type": "markdown",
   "metadata": {},
   "source": [
    "## Making the Article Search API call with a query_dic input:\n",
    "\n",
    "\n",
    "* The corresponding call was successful given the Response Status code of 200."
   ]
  },
  {
   "cell_type": "code",
   "execution_count": 15,
   "metadata": {},
   "outputs": [
    {
     "name": "stdout",
     "output_type": "stream",
     "text": [
      "API Call URL:\n",
      "https://api.nytimes.com/svc/search/v2/articlesearch.json?page=0&section_name=Autos&api-key=mykey\n",
      "\n",
      "Response Status Code:\n",
      "200\n"
     ]
    }
   ],
   "source": [
    "response2=call_nyt_api('Article Search Api',params['API Key'],{'page':0,'section_name':'Autos'})"
   ]
  },
  {
   "cell_type": "markdown",
   "metadata": {},
   "source": [
    "* Below the response2 variable is converted to a dataframe and has the below shape:"
   ]
  },
  {
   "cell_type": "code",
   "execution_count": 16,
   "metadata": {},
   "outputs": [
    {
     "data": {
      "text/plain": [
       "(10, 16)"
      ]
     },
     "execution_count": 16,
     "metadata": {},
     "output_type": "execute_result"
    }
   ],
   "source": [
    "df2=pd.DataFrame(response2.json()['response']['docs'])\n",
    "df2.shape"
   ]
  },
  {
   "cell_type": "markdown",
   "metadata": {},
   "source": [
    "* Checking if the received data is correct:"
   ]
  },
  {
   "cell_type": "code",
   "execution_count": 17,
   "metadata": {},
   "outputs": [
    {
     "data": {
      "text/plain": [
       "'FAA to study residents complaints of flight patterns'"
      ]
     },
     "execution_count": 17,
     "metadata": {},
     "output_type": "execute_result"
    }
   ],
   "source": [
    "df2.snippet.iloc[9]"
   ]
  },
  {
   "cell_type": "markdown",
   "metadata": {},
   "source": [
    "##  Making the Books API call with a query_dic input:\n",
    "\n",
    "* The corresponding call was successful given the Response Status code of 200."
   ]
  },
  {
   "cell_type": "code",
   "execution_count": 18,
   "metadata": {},
   "outputs": [
    {
     "name": "stdout",
     "output_type": "stream",
     "text": [
      "Select which part of the Books Api you would like to access:\n",
      "Lists or Reviews\n",
      "Reviews\n",
      "\n",
      "API Call URL:\n",
      "https://api.nytimes.com/svc/books/v3/reviews.json?author=Stephen%20King&api-key=mykey\n",
      "\n",
      "Response Status Code:\n",
      "200\n"
     ]
    }
   ],
   "source": [
    "response3=call_nyt_api('Books Api',params['API Key'],{'author':'Stephen King'})"
   ]
  },
  {
   "cell_type": "markdown",
   "metadata": {},
   "source": [
    "* Below the response3 variable is converted to a dataframe and has the below shape:"
   ]
  },
  {
   "cell_type": "code",
   "execution_count": 19,
   "metadata": {},
   "outputs": [
    {
     "data": {
      "text/plain": [
       "(64, 9)"
      ]
     },
     "execution_count": 19,
     "metadata": {},
     "output_type": "execute_result"
    }
   ],
   "source": [
    "df3=pd.DataFrame(response3.json()['results'])\n",
    "df3.shape"
   ]
  },
  {
   "cell_type": "markdown",
   "metadata": {},
   "source": [
    "* Listing all of the Stephen King Books:"
   ]
  },
  {
   "cell_type": "code",
   "execution_count": 20,
   "metadata": {},
   "outputs": [
    {
     "data": {
      "text/plain": [
       "array(['11/22/63', 'Wolves of the Calla', 'Nightmares and Dreamscapes',\n",
       "       'Black House', 'The Stand', 'Four Past Midnight', 'Needful Things',\n",
       "       \"Gerald's Game\", \"Everything's Eventual : 14 Dark Tales\", 'It',\n",
       "       'Full Dark, No Stars', 'Bag of Bones', 'Rose Madder',\n",
       "       'Doctor Sleep', 'Joyland', 'Under the Dome', 'Revival',\n",
       "       \"Lisey's Story\", 'Just After Sunset', 'Duma Key', 'Mr. Mercedes',\n",
       "       \"Stephen King's Danse Macabre\", 'Cujo', 'Different Seasons',\n",
       "       'Christine', 'Pet Sematary', 'Skeleton Crew',\n",
       "       'The Eyes of the Dragon', 'Misery', 'The Tommyknockers',\n",
       "       'The Dark Half', 'The Waste Lands: The Dark Tower Book III',\n",
       "       'Needful Things: The Last Castle Rock Story',\n",
       "       'Insomnia,Stephen King Library Ed.',\n",
       "       'The Girl Who Loved Tom Gordon : A Novel',\n",
       "       'On Writing:  a Memoir of the Craft', 'Dreamcatcher',\n",
       "       'From a Buick 8', 'The Dark Tower VI', 'Cell', 'Finders Keepers',\n",
       "       'End of Watch', 'The Outsider', 'Elevation'], dtype=object)"
      ]
     },
     "execution_count": 20,
     "metadata": {},
     "output_type": "execute_result"
    }
   ],
   "source": [
    "df3['book_title'].unique()"
   ]
  }
 ],
 "metadata": {
  "kernelspec": {
   "display_name": "Python 3",
   "language": "python",
   "name": "python3"
  },
  "language_info": {
   "codemirror_mode": {
    "name": "ipython",
    "version": 3
   },
   "file_extension": ".py",
   "mimetype": "text/x-python",
   "name": "python",
   "nbconvert_exporter": "python",
   "pygments_lexer": "ipython3",
   "version": "3.6.4"
  }
 },
 "nbformat": 4,
 "nbformat_minor": 2
}

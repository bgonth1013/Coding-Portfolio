{
 "cells": [
  {
   "cell_type": "markdown",
   "metadata": {},
   "source": [
    "# NBA Scores Scraping Project\n",
    "\n",
    "* Goal is to scrape ESPN.com for NBA game scores up to an n # of days ago and then process the data and count total wins and losses for each team during those days."
   ]
  },
  {
   "cell_type": "code",
   "execution_count": 1,
   "metadata": {},
   "outputs": [],
   "source": [
    "import numpy as np\n",
    "import pandas as pd\n",
    "\n",
    "import requests\n",
    "\n",
    "from os.path import join\n",
    "\n",
    "from bs4 import BeautifulSoup\n",
    "\n",
    "import urllib\n",
    "\n",
    "import datetime\n",
    "\n",
    "import re\n",
    "\n",
    "import warnings\n",
    "\n",
    "from selenium import webdriver\n",
    "\n",
    "from IPython.display import Image\n",
    "\n",
    "warnings.filterwarnings('ignore')\n",
    "\n",
    "path='C:/Users/blake.gonthier/Desktop/DataQuest/Web Scraping/'"
   ]
  },
  {
   "cell_type": "markdown",
   "metadata": {},
   "source": [
    "* Parsing function for recieved html code from ESPN"
   ]
  },
  {
   "cell_type": "code",
   "execution_count": 2,
   "metadata": {},
   "outputs": [],
   "source": [
    "def parse_pipe(x):\n",
    "    \n",
    "    replaced=re.sub('\\t*','',x)\n",
    "    replaced=re.sub('  ',' ',replaced)\n",
    "   \n",
    "    clean=re.split('Final 1 2 3 4 T ',replaced)[1]\n",
    "    \n",
    "\n",
    "    teams=re.findall('[76]{0,2}\\D*[A-Z]{2,3}\\([0-9]*-[0-9]*, [0-9]*-[0-9]* [A-Za-z]*\\)[0-9]*-[0-9]* [0-9]* [0-9]* [0-9]* [0-9]*',clean)\n",
    "    \n",
    "    vals=[]\n",
    "    teams_li=[]\n",
    "    for a in teams:\n",
    "        vals.append(re.findall('away|Home',a)[0])\n",
    "        teams_li.append(re.findall('[76]{0,2}\\D*[A-Z]{2,3}',a)[0])\n",
    "        \n",
    "    scores=[int(a.split(' ')[-1][2:]) for a in teams]\n",
    "    \n",
    "    output=[[a[0][0].strip(),a[0][1],a[1]] for a in list(zip(list(zip(teams_li,vals)),scores))]\n",
    "    \n",
    "    return output"
   ]
  },
  {
   "cell_type": "markdown",
   "metadata": {},
   "source": [
    "* Formatting date function that has the correct url ending for a specific date:\n",
    "\n",
    "\n",
    "* Pattern is year+month+day:\n",
    "\n",
    "    * Example is below for February 5th, 2019"
   ]
  },
  {
   "cell_type": "code",
   "execution_count": 3,
   "metadata": {},
   "outputs": [
    {
     "data": {
      "text/plain": [
       "'20190205'"
      ]
     },
     "execution_count": 3,
     "metadata": {},
     "output_type": "execute_result"
    }
   ],
   "source": [
    "def format_date(year,month,day):\n",
    "    \n",
    "    if month<10:\n",
    "        month='0'+str(month)\n",
    "    else:\n",
    "        month=str(month)\n",
    "    \n",
    "    if day<10:\n",
    "        day='0'+str(day)\n",
    "    else:\n",
    "        day=str(day)\n",
    "        \n",
    "    year=str(year)\n",
    "    \n",
    "\n",
    "    \n",
    "    return year+month+day\n",
    "\n",
    "format_date(2019,2,5)"
   ]
  },
  {
   "cell_type": "markdown",
   "metadata": {},
   "source": [
    "* The function below is used to generate the correct url for a specific date given the formatted date from the format_date function\n",
    "\n",
    "\n",
    "* Example is given below for February 5th 2019:"
   ]
  },
  {
   "cell_type": "code",
   "execution_count": 4,
   "metadata": {},
   "outputs": [
    {
     "data": {
      "text/plain": [
       "'http://www.espn.com/nba/scoreboard/_/date/20190205'"
      ]
     },
     "execution_count": 4,
     "metadata": {},
     "output_type": "execute_result"
    }
   ],
   "source": [
    "def generate_url(formatted_date):\n",
    "    \n",
    "    return join('http://www.espn.com/nba/scoreboard/_/date/',formatted_date)\n",
    "\n",
    "\n",
    "generate_url(format_date(2019,2,5))"
   ]
  },
  {
   "cell_type": "markdown",
   "metadata": {},
   "source": [
    "* Queue_scrape function is used to make a list of urls to scrape NBA score data from for each of the last n days (represented as days_ago)\n",
    "\n",
    "\n",
    "* Example below is for the last 3 days as of February 7th, 2019 2:30 P.M."
   ]
  },
  {
   "cell_type": "code",
   "execution_count": 5,
   "metadata": {},
   "outputs": [
    {
     "data": {
      "text/plain": [
       "'Feb 07, 2019'"
      ]
     },
     "execution_count": 5,
     "metadata": {},
     "output_type": "execute_result"
    }
   ],
   "source": [
    "datetime.datetime.now().strftime('%b %d, %Y')"
   ]
  },
  {
   "cell_type": "code",
   "execution_count": 6,
   "metadata": {},
   "outputs": [
    {
     "data": {
      "text/plain": [
       "{(2019, 2, 6): 'http://www.espn.com/nba/scoreboard/_/date/20190206',\n",
       " (2019, 2, 5): 'http://www.espn.com/nba/scoreboard/_/date/20190205',\n",
       " (2019, 2, 4): 'http://www.espn.com/nba/scoreboard/_/date/20190204'}"
      ]
     },
     "execution_count": 6,
     "metadata": {},
     "output_type": "execute_result"
    }
   ],
   "source": [
    "def queue_scrape(days_ago):\n",
    "    \n",
    "    today=datetime.datetime.now()\n",
    "    \n",
    "    def extract_link(datetime_val):\n",
    "        \n",
    "        year=datetime_val.year\n",
    "        month=datetime_val.month\n",
    "        day=datetime_val.day\n",
    "        \n",
    "        return (year,month,day),generate_url(format_date(year,month,day))\n",
    "    \n",
    "    url_links={}\n",
    "    \n",
    "    for i in range(1,days_ago+1):\n",
    "        \n",
    "        delta=datetime.timedelta(days=i)\n",
    "        \n",
    "        date_past=today-delta\n",
    "        \n",
    "        url_id,url_output=extract_link(date_past)\n",
    "    \n",
    "        url_links[url_id]=url_output\n",
    "    \n",
    "    return url_links\n",
    "\n",
    "links=queue_scrape(3)\n",
    "links"
   ]
  },
  {
   "cell_type": "markdown",
   "metadata": {},
   "source": [
    "* The scrape_scores function below is the main script that collects the NBA score data and outputs it into a dictionary in the following format:\n",
    "\n",
    "{   (year,month,day1) : [ [team1 , away , score_away] , [team2 , Home, score_home],.....], .....\n",
    "\n",
    "(year,month,day2) : [ [team1 , away , score_away] , [team2 , Home, score_home],.....]    }\n",
    "\n"
   ]
  },
  {
   "cell_type": "code",
   "execution_count": 7,
   "metadata": {},
   "outputs": [],
   "source": [
    "def scrape_scores(links):\n",
    "    \n",
    "    dic={}\n",
    "    \n",
    "    driver=webdriver.Chrome(keep_alive=False)\n",
    "    \n",
    "    for url_id,url in links.items():\n",
    "\n",
    "        driver.get(url)\n",
    "\n",
    "        html=driver.page_source\n",
    "        \n",
    "        soup = BeautifulSoup(html)\n",
    "\n",
    "        for tag in soup.find_all(\"div\", id='events'):\n",
    "            day_text=tag.text.replace('\\n','')\n",
    "    \n",
    "        ex3=re.split('Details',day_text)\n",
    "        \n",
    "        scores=[]\n",
    "        \n",
    "        for i in range(len(ex3)-1):\n",
    "            score=parse_pipe(ex3[i])\n",
    "            scores.append(score)\n",
    "            print(score)   \n",
    "        dic[url_id]=scores\n",
    "        \n",
    "        \n",
    "\n",
    "            \n",
    "    driver.close()\n",
    "    \n",
    "    return dic"
   ]
  },
  {
   "cell_type": "markdown",
   "metadata": {},
   "source": [
    "* Below is the use of the scrape_scores function for the last 3 days being: \n",
    "    \n",
    "    1. February 4th, 2019\n",
    "    2. February 5th, 2019\n",
    "    3. February 6th, 2019"
   ]
  },
  {
   "cell_type": "code",
   "execution_count": 8,
   "metadata": {},
   "outputs": [
    {
     "name": "stdout",
     "output_type": "stream",
     "text": [
      "[['NuggetsDEN', 'away', 130], ['NetsBKN', 'Home', 135]]\n",
      "[['PelicansNO', 'away', 125], ['BullsCHI', 'Home', 120]]\n",
      "[['WizardsWSH', 'away', 129], ['BucksMIL', 'Home', 148]]\n",
      "[['HornetsCHA', 'away', 93], ['MavericksDAL', 'Home', 99]]\n",
      "[['SunsPHX', 'away', 88], ['JazzUTAH', 'Home', 116]]\n",
      "[['RocketsHOU', 'away', 127], ['KingsSAC', 'Home', 101]]\n",
      "[['SpursSA', 'away', 102], ['WarriorsGS', 'Home', 141]]\n",
      "[['ClippersLAC', 'away', 117], ['HornetsCHA', 'Home', 115]]\n",
      "[['CelticsBOS', 'away', 103], ['CavaliersCLE', 'Home', 96]]\n",
      "[['LakersLAL', 'away', 94], ['PacersIND', 'Home', 136]]\n",
      "[['PistonsDET', 'away', 105], ['KnicksNY', 'Home', 92]]\n",
      "[['RaptorsTOR', 'away', 119], ['76ersPHI', 'Home', 107]]\n",
      "[['TimberwolvesMIN', 'away', 106], ['GrizzliesMEM', 'Home', 108]]\n",
      "[['MagicORL', 'away', 122], ['ThunderOKC', 'Home', 132]]\n",
      "[['HeatMIA', 'away', 118], ['Trail BlazersPOR', 'Home', 108]]\n",
      "[['NuggetsDEN', 'away', 103], ['PistonsDET', 'Home', 129]]\n",
      "[['HawksATL', 'away', 137], ['WizardsWSH', 'Home', 129]]\n",
      "[['BucksMIL', 'away', 113], ['NetsBKN', 'Home', 94]]\n",
      "[['PacersIND', 'away', 109], ['PelicansNO', 'Home', 107]]\n",
      "[['RocketsHOU', 'away', 118], ['SunsPHX', 'Home', 110]]\n",
      "[['SpursSA', 'away', 112], ['KingsSAC', 'Home', 127]]\n"
     ]
    }
   ],
   "source": [
    "output_dic=scrape_scores(links)"
   ]
  },
  {
   "cell_type": "markdown",
   "metadata": {},
   "source": [
    "###  February 4th, 2019 NBA Scores with Test Image"
   ]
  },
  {
   "cell_type": "code",
   "execution_count": 9,
   "metadata": {},
   "outputs": [
    {
     "data": {
      "text/plain": [
       "[[['NuggetsDEN', 'away', 103], ['PistonsDET', 'Home', 129]],\n",
       " [['HawksATL', 'away', 137], ['WizardsWSH', 'Home', 129]],\n",
       " [['BucksMIL', 'away', 113], ['NetsBKN', 'Home', 94]],\n",
       " [['PacersIND', 'away', 109], ['PelicansNO', 'Home', 107]],\n",
       " [['RocketsHOU', 'away', 118], ['SunsPHX', 'Home', 110]],\n",
       " [['SpursSA', 'away', 112], ['KingsSAC', 'Home', 127]]]"
      ]
     },
     "execution_count": 9,
     "metadata": {},
     "output_type": "execute_result"
    }
   ],
   "source": [
    "output_dic[(2019,2,4)]"
   ]
  },
  {
   "cell_type": "code",
   "execution_count": 10,
   "metadata": {},
   "outputs": [
    {
     "data": {
      "image/png": "[encoded data removed]",
      "text/plain": [
       "<IPython.core.display.Image object>"
      ]
     },
     "execution_count": 10,
     "metadata": {},
     "output_type": "execute_result"
    }
   ],
   "source": [
    "Image(join(path,'screenshot_nba_scores_2_4.PNG'))"
   ]
  },
  {
   "cell_type": "markdown",
   "metadata": {},
   "source": [
    "###  February 5th, 2019 NBA Scores with Test Image"
   ]
  },
  {
   "cell_type": "code",
   "execution_count": 11,
   "metadata": {},
   "outputs": [
    {
     "data": {
      "text/plain": [
       "[[['ClippersLAC', 'away', 117], ['HornetsCHA', 'Home', 115]],\n",
       " [['CelticsBOS', 'away', 103], ['CavaliersCLE', 'Home', 96]],\n",
       " [['LakersLAL', 'away', 94], ['PacersIND', 'Home', 136]],\n",
       " [['PistonsDET', 'away', 105], ['KnicksNY', 'Home', 92]],\n",
       " [['RaptorsTOR', 'away', 119], ['76ersPHI', 'Home', 107]],\n",
       " [['TimberwolvesMIN', 'away', 106], ['GrizzliesMEM', 'Home', 108]],\n",
       " [['MagicORL', 'away', 122], ['ThunderOKC', 'Home', 132]],\n",
       " [['HeatMIA', 'away', 118], ['Trail BlazersPOR', 'Home', 108]]]"
      ]
     },
     "execution_count": 11,
     "metadata": {},
     "output_type": "execute_result"
    }
   ],
   "source": [
    "output_dic[(2019,2,5)]"
   ]
  },
  {
   "cell_type": "code",
   "execution_count": 12,
   "metadata": {},
   "outputs": [
    {
     "data": {
      "image/png": "[encoded data removed]",
      "text/plain": [
       "<IPython.core.display.Image object>"
      ]
     },
     "execution_count": 12,
     "metadata": {},
     "output_type": "execute_result"
    }
   ],
   "source": [
    "Image(join(path,'screenshot_nba_scores_2_5.PNG'))"
   ]
  },
  {
   "cell_type": "markdown",
   "metadata": {},
   "source": [
    "###  February 6th, 2019 NBA Scores with Test Image"
   ]
  },
  {
   "cell_type": "code",
   "execution_count": 13,
   "metadata": {},
   "outputs": [
    {
     "data": {
      "text/plain": [
       "[[['NuggetsDEN', 'away', 130], ['NetsBKN', 'Home', 135]],\n",
       " [['PelicansNO', 'away', 125], ['BullsCHI', 'Home', 120]],\n",
       " [['WizardsWSH', 'away', 129], ['BucksMIL', 'Home', 148]],\n",
       " [['HornetsCHA', 'away', 93], ['MavericksDAL', 'Home', 99]],\n",
       " [['SunsPHX', 'away', 88], ['JazzUTAH', 'Home', 116]],\n",
       " [['RocketsHOU', 'away', 127], ['KingsSAC', 'Home', 101]],\n",
       " [['SpursSA', 'away', 102], ['WarriorsGS', 'Home', 141]]]"
      ]
     },
     "execution_count": 13,
     "metadata": {},
     "output_type": "execute_result"
    }
   ],
   "source": [
    "output_dic[(2019,2,6)]"
   ]
  },
  {
   "cell_type": "code",
   "execution_count": 14,
   "metadata": {},
   "outputs": [
    {
     "data": {
      "image/png": "[encoded data removed]",
      "text/plain": [
       "<IPython.core.display.Image object>"
      ]
     },
     "execution_count": 14,
     "metadata": {},
     "output_type": "execute_result"
    }
   ],
   "source": [
    "Image(join(path,'screenshot_nba_scores_2_6.PNG'))"
   ]
  },
  {
   "cell_type": "markdown",
   "metadata": {},
   "source": [
    "## Processing the Scraped NBA Data"
   ]
  },
  {
   "cell_type": "markdown",
   "metadata": {},
   "source": [
    "* Making one dataframe for each day's results and combining it into a list"
   ]
  },
  {
   "cell_type": "code",
   "execution_count": 15,
   "metadata": {},
   "outputs": [],
   "source": [
    "df_li=[]\n",
    "for gameday,results in output_dic.items():\n",
    "    \n",
    "    df_results=pd.DataFrame(results,columns=['Away','Home'])\n",
    "    year=gameday[0]\n",
    "    month=gameday[1]\n",
    "    day=gameday[2]\n",
    "    df_results['Date']=datetime.datetime(year=year,month=month,day=day)\n",
    "    df_li.append(df_results)"
   ]
  },
  {
   "cell_type": "markdown",
   "metadata": {},
   "source": [
    "* Combining all of the dataframes into one dataframe"
   ]
  },
  {
   "cell_type": "code",
   "execution_count": 16,
   "metadata": {},
   "outputs": [],
   "source": [
    "counter=0\n",
    "\n",
    "for a in df_li:\n",
    "    if counter!=0:\n",
    "        combined_df=pd.concat([combined_df,a],axis=0)\n",
    "    else:\n",
    "        combined_df=a.copy()\n",
    "        counter=1\n",
    "        "
   ]
  },
  {
   "cell_type": "markdown",
   "metadata": {},
   "source": [
    "* Showing the resulting combined_df"
   ]
  },
  {
   "cell_type": "code",
   "execution_count": 17,
   "metadata": {},
   "outputs": [
    {
     "data": {
      "text/html": [
       "<div>\n",
       "<style scoped>\n",
       "    .dataframe tbody tr th:only-of-type {\n",
       "        vertical-align: middle;\n",
       "    }\n",
       "\n",
       "    .dataframe tbody tr th {\n",
       "        vertical-align: top;\n",
       "    }\n",
       "\n",
       "    .dataframe thead th {\n",
       "        text-align: right;\n",
       "    }\n",
       "</style>\n",
       "<table border=\"1\" class=\"dataframe\">\n",
       "  <thead>\n",
       "    <tr style=\"text-align: right;\">\n",
       "      <th></th>\n",
       "      <th>Away</th>\n",
       "      <th>Home</th>\n",
       "      <th>Date</th>\n",
       "    </tr>\n",
       "  </thead>\n",
       "  <tbody>\n",
       "    <tr>\n",
       "      <th>0</th>\n",
       "      <td>[NuggetsDEN, away, 130]</td>\n",
       "      <td>[NetsBKN, Home, 135]</td>\n",
       "      <td>2019-02-06</td>\n",
       "    </tr>\n",
       "    <tr>\n",
       "      <th>1</th>\n",
       "      <td>[PelicansNO, away, 125]</td>\n",
       "      <td>[BullsCHI, Home, 120]</td>\n",
       "      <td>2019-02-06</td>\n",
       "    </tr>\n",
       "    <tr>\n",
       "      <th>2</th>\n",
       "      <td>[WizardsWSH, away, 129]</td>\n",
       "      <td>[BucksMIL, Home, 148]</td>\n",
       "      <td>2019-02-06</td>\n",
       "    </tr>\n",
       "    <tr>\n",
       "      <th>3</th>\n",
       "      <td>[HornetsCHA, away, 93]</td>\n",
       "      <td>[MavericksDAL, Home, 99]</td>\n",
       "      <td>2019-02-06</td>\n",
       "    </tr>\n",
       "    <tr>\n",
       "      <th>4</th>\n",
       "      <td>[SunsPHX, away, 88]</td>\n",
       "      <td>[JazzUTAH, Home, 116]</td>\n",
       "      <td>2019-02-06</td>\n",
       "    </tr>\n",
       "  </tbody>\n",
       "</table>\n",
       "</div>"
      ],
      "text/plain": [
       "                      Away                      Home       Date\n",
       "0  [NuggetsDEN, away, 130]      [NetsBKN, Home, 135] 2019-02-06\n",
       "1  [PelicansNO, away, 125]     [BullsCHI, Home, 120] 2019-02-06\n",
       "2  [WizardsWSH, away, 129]     [BucksMIL, Home, 148] 2019-02-06\n",
       "3   [HornetsCHA, away, 93]  [MavericksDAL, Home, 99] 2019-02-06\n",
       "4      [SunsPHX, away, 88]     [JazzUTAH, Home, 116] 2019-02-06"
      ]
     },
     "execution_count": 17,
     "metadata": {},
     "output_type": "execute_result"
    }
   ],
   "source": [
    "combined_df.head()"
   ]
  },
  {
   "cell_type": "markdown",
   "metadata": {},
   "source": [
    "* Parsing out the team and score data from the combined_df dataframe"
   ]
  },
  {
   "cell_type": "code",
   "execution_count": 18,
   "metadata": {},
   "outputs": [],
   "source": [
    "for var in ['Away','Home']:\n",
    "    combined_df[var+'_Team']=combined_df[var].map(lambda x: x[0])\n",
    "    combined_df[var+'_Team_Score']=combined_df[var].map(lambda x: x[2])"
   ]
  },
  {
   "cell_type": "code",
   "execution_count": 19,
   "metadata": {},
   "outputs": [],
   "source": [
    "del combined_df['Away'],combined_df['Home']"
   ]
  },
  {
   "cell_type": "code",
   "execution_count": 20,
   "metadata": {},
   "outputs": [
    {
     "data": {
      "text/html": [
       "<div>\n",
       "<style scoped>\n",
       "    .dataframe tbody tr th:only-of-type {\n",
       "        vertical-align: middle;\n",
       "    }\n",
       "\n",
       "    .dataframe tbody tr th {\n",
       "        vertical-align: top;\n",
       "    }\n",
       "\n",
       "    .dataframe thead th {\n",
       "        text-align: right;\n",
       "    }\n",
       "</style>\n",
       "<table border=\"1\" class=\"dataframe\">\n",
       "  <thead>\n",
       "    <tr style=\"text-align: right;\">\n",
       "      <th></th>\n",
       "      <th>Date</th>\n",
       "      <th>Away_Team</th>\n",
       "      <th>Away_Team_Score</th>\n",
       "      <th>Home_Team</th>\n",
       "      <th>Home_Team_Score</th>\n",
       "    </tr>\n",
       "  </thead>\n",
       "  <tbody>\n",
       "    <tr>\n",
       "      <th>0</th>\n",
       "      <td>2019-02-06</td>\n",
       "      <td>NuggetsDEN</td>\n",
       "      <td>130</td>\n",
       "      <td>NetsBKN</td>\n",
       "      <td>135</td>\n",
       "    </tr>\n",
       "    <tr>\n",
       "      <th>1</th>\n",
       "      <td>2019-02-06</td>\n",
       "      <td>PelicansNO</td>\n",
       "      <td>125</td>\n",
       "      <td>BullsCHI</td>\n",
       "      <td>120</td>\n",
       "    </tr>\n",
       "    <tr>\n",
       "      <th>2</th>\n",
       "      <td>2019-02-06</td>\n",
       "      <td>WizardsWSH</td>\n",
       "      <td>129</td>\n",
       "      <td>BucksMIL</td>\n",
       "      <td>148</td>\n",
       "    </tr>\n",
       "    <tr>\n",
       "      <th>3</th>\n",
       "      <td>2019-02-06</td>\n",
       "      <td>HornetsCHA</td>\n",
       "      <td>93</td>\n",
       "      <td>MavericksDAL</td>\n",
       "      <td>99</td>\n",
       "    </tr>\n",
       "    <tr>\n",
       "      <th>4</th>\n",
       "      <td>2019-02-06</td>\n",
       "      <td>SunsPHX</td>\n",
       "      <td>88</td>\n",
       "      <td>JazzUTAH</td>\n",
       "      <td>116</td>\n",
       "    </tr>\n",
       "  </tbody>\n",
       "</table>\n",
       "</div>"
      ],
      "text/plain": [
       "        Date   Away_Team  Away_Team_Score     Home_Team  Home_Team_Score\n",
       "0 2019-02-06  NuggetsDEN              130       NetsBKN              135\n",
       "1 2019-02-06  PelicansNO              125      BullsCHI              120\n",
       "2 2019-02-06  WizardsWSH              129      BucksMIL              148\n",
       "3 2019-02-06  HornetsCHA               93  MavericksDAL               99\n",
       "4 2019-02-06     SunsPHX               88      JazzUTAH              116"
      ]
     },
     "execution_count": 20,
     "metadata": {},
     "output_type": "execute_result"
    }
   ],
   "source": [
    "combined_df.head()"
   ]
  },
  {
   "cell_type": "markdown",
   "metadata": {},
   "source": [
    "* Determining W/L for Every Away Team"
   ]
  },
  {
   "cell_type": "code",
   "execution_count": 21,
   "metadata": {},
   "outputs": [],
   "source": [
    "def win_or_loss(x):\n",
    "    if x<0:\n",
    "        return 'L'\n",
    "    else:\n",
    "        return 'W'"
   ]
  },
  {
   "cell_type": "code",
   "execution_count": 22,
   "metadata": {},
   "outputs": [],
   "source": [
    "combined_df['Away_Team_Result']=combined_df['Away_Team_Score']-combined_df['Home_Team_Score']\n",
    "combined_df['Away_Team_Result']=combined_df['Away_Team_Result'].map(win_or_loss)"
   ]
  },
  {
   "cell_type": "code",
   "execution_count": 23,
   "metadata": {},
   "outputs": [
    {
     "data": {
      "text/html": [
       "<div>\n",
       "<style scoped>\n",
       "    .dataframe tbody tr th:only-of-type {\n",
       "        vertical-align: middle;\n",
       "    }\n",
       "\n",
       "    .dataframe tbody tr th {\n",
       "        vertical-align: top;\n",
       "    }\n",
       "\n",
       "    .dataframe thead th {\n",
       "        text-align: right;\n",
       "    }\n",
       "</style>\n",
       "<table border=\"1\" class=\"dataframe\">\n",
       "  <thead>\n",
       "    <tr style=\"text-align: right;\">\n",
       "      <th></th>\n",
       "      <th>Date</th>\n",
       "      <th>Away_Team</th>\n",
       "      <th>Away_Team_Score</th>\n",
       "      <th>Home_Team</th>\n",
       "      <th>Home_Team_Score</th>\n",
       "      <th>Away_Team_Result</th>\n",
       "    </tr>\n",
       "  </thead>\n",
       "  <tbody>\n",
       "    <tr>\n",
       "      <th>0</th>\n",
       "      <td>2019-02-06</td>\n",
       "      <td>NuggetsDEN</td>\n",
       "      <td>130</td>\n",
       "      <td>NetsBKN</td>\n",
       "      <td>135</td>\n",
       "      <td>L</td>\n",
       "    </tr>\n",
       "    <tr>\n",
       "      <th>1</th>\n",
       "      <td>2019-02-06</td>\n",
       "      <td>PelicansNO</td>\n",
       "      <td>125</td>\n",
       "      <td>BullsCHI</td>\n",
       "      <td>120</td>\n",
       "      <td>W</td>\n",
       "    </tr>\n",
       "    <tr>\n",
       "      <th>2</th>\n",
       "      <td>2019-02-06</td>\n",
       "      <td>WizardsWSH</td>\n",
       "      <td>129</td>\n",
       "      <td>BucksMIL</td>\n",
       "      <td>148</td>\n",
       "      <td>L</td>\n",
       "    </tr>\n",
       "    <tr>\n",
       "      <th>3</th>\n",
       "      <td>2019-02-06</td>\n",
       "      <td>HornetsCHA</td>\n",
       "      <td>93</td>\n",
       "      <td>MavericksDAL</td>\n",
       "      <td>99</td>\n",
       "      <td>L</td>\n",
       "    </tr>\n",
       "    <tr>\n",
       "      <th>4</th>\n",
       "      <td>2019-02-06</td>\n",
       "      <td>SunsPHX</td>\n",
       "      <td>88</td>\n",
       "      <td>JazzUTAH</td>\n",
       "      <td>116</td>\n",
       "      <td>L</td>\n",
       "    </tr>\n",
       "  </tbody>\n",
       "</table>\n",
       "</div>"
      ],
      "text/plain": [
       "        Date   Away_Team  Away_Team_Score     Home_Team  Home_Team_Score  \\\n",
       "0 2019-02-06  NuggetsDEN              130       NetsBKN              135   \n",
       "1 2019-02-06  PelicansNO              125      BullsCHI              120   \n",
       "2 2019-02-06  WizardsWSH              129      BucksMIL              148   \n",
       "3 2019-02-06  HornetsCHA               93  MavericksDAL               99   \n",
       "4 2019-02-06     SunsPHX               88      JazzUTAH              116   \n",
       "\n",
       "  Away_Team_Result  \n",
       "0                L  \n",
       "1                W  \n",
       "2                L  \n",
       "3                L  \n",
       "4                L  "
      ]
     },
     "execution_count": 23,
     "metadata": {},
     "output_type": "execute_result"
    }
   ],
   "source": [
    "combined_df.head()"
   ]
  },
  {
   "cell_type": "markdown",
   "metadata": {},
   "source": [
    "* Making W/L Incrementing Dictionary for all the teams that played in the 2/04/2019 - 2/06/2019"
   ]
  },
  {
   "cell_type": "code",
   "execution_count": 24,
   "metadata": {},
   "outputs": [],
   "source": [
    "results_dic={}\n",
    "\n",
    "\n",
    "for index,row in combined_df.iterrows():\n",
    "\n",
    "    if row.Away_Team not in results_dic.keys():\n",
    "        results_dic[row.Away_Team]={'W':0,'L':0}\n",
    "    \n",
    "    if row.Home_Team not in results_dic.keys():\n",
    "        results_dic[row.Home_Team]={'W':0,'L':0}\n",
    "        \n",
    "    if row.Away_Team_Result=='L':\n",
    "        results_dic[row.Away_Team]['L']+=1\n",
    "    else:\n",
    "        results_dic[row.Away_Team]['W']+=1\n",
    "        \n",
    "    if row.Away_Team_Result=='L':\n",
    "        results_dic[row.Home_Team]['W']+=1\n",
    "    else:\n",
    "        results_dic[row.Home_Team]['L']+=1"
   ]
  },
  {
   "cell_type": "code",
   "execution_count": 25,
   "metadata": {},
   "outputs": [
    {
     "data": {
      "text/plain": [
       "{'NuggetsDEN': {'W': 0, 'L': 2},\n",
       " 'NetsBKN': {'W': 1, 'L': 1},\n",
       " 'PelicansNO': {'W': 1, 'L': 1},\n",
       " 'BullsCHI': {'W': 0, 'L': 1},\n",
       " 'WizardsWSH': {'W': 0, 'L': 2},\n",
       " 'BucksMIL': {'W': 2, 'L': 0},\n",
       " 'HornetsCHA': {'W': 0, 'L': 2},\n",
       " 'MavericksDAL': {'W': 1, 'L': 0},\n",
       " 'SunsPHX': {'W': 0, 'L': 2},\n",
       " 'JazzUTAH': {'W': 1, 'L': 0},\n",
       " 'RocketsHOU': {'W': 2, 'L': 0},\n",
       " 'KingsSAC': {'W': 1, 'L': 1},\n",
       " 'SpursSA': {'W': 0, 'L': 2},\n",
       " 'WarriorsGS': {'W': 1, 'L': 0},\n",
       " 'ClippersLAC': {'W': 1, 'L': 0},\n",
       " 'CelticsBOS': {'W': 1, 'L': 0},\n",
       " 'CavaliersCLE': {'W': 0, 'L': 1},\n",
       " 'LakersLAL': {'W': 0, 'L': 1},\n",
       " 'PacersIND': {'W': 2, 'L': 0},\n",
       " 'PistonsDET': {'W': 2, 'L': 0},\n",
       " 'KnicksNY': {'W': 0, 'L': 1},\n",
       " 'RaptorsTOR': {'W': 1, 'L': 0},\n",
       " '76ersPHI': {'W': 0, 'L': 1},\n",
       " 'TimberwolvesMIN': {'W': 0, 'L': 1},\n",
       " 'GrizzliesMEM': {'W': 1, 'L': 0},\n",
       " 'MagicORL': {'W': 0, 'L': 1},\n",
       " 'ThunderOKC': {'W': 1, 'L': 0},\n",
       " 'HeatMIA': {'W': 1, 'L': 0},\n",
       " 'Trail BlazersPOR': {'W': 0, 'L': 1},\n",
       " 'HawksATL': {'W': 1, 'L': 0}}"
      ]
     },
     "execution_count": 25,
     "metadata": {},
     "output_type": "execute_result"
    }
   ],
   "source": [
    "results_dic"
   ]
  },
  {
   "cell_type": "markdown",
   "metadata": {},
   "source": [
    "* Displaying the data in a dataframe sorted by the teams that have the most wins to the least wins"
   ]
  },
  {
   "cell_type": "code",
   "execution_count": 26,
   "metadata": {},
   "outputs": [
    {
     "data": {
      "text/html": [
       "<div>\n",
       "<style scoped>\n",
       "    .dataframe tbody tr th:only-of-type {\n",
       "        vertical-align: middle;\n",
       "    }\n",
       "\n",
       "    .dataframe tbody tr th {\n",
       "        vertical-align: top;\n",
       "    }\n",
       "\n",
       "    .dataframe thead th {\n",
       "        text-align: right;\n",
       "    }\n",
       "</style>\n",
       "<table border=\"1\" class=\"dataframe\">\n",
       "  <thead>\n",
       "    <tr style=\"text-align: right;\">\n",
       "      <th></th>\n",
       "      <th>W</th>\n",
       "      <th>L</th>\n",
       "    </tr>\n",
       "  </thead>\n",
       "  <tbody>\n",
       "    <tr>\n",
       "      <th>BucksMIL</th>\n",
       "      <td>2</td>\n",
       "      <td>0</td>\n",
       "    </tr>\n",
       "    <tr>\n",
       "      <th>RocketsHOU</th>\n",
       "      <td>2</td>\n",
       "      <td>0</td>\n",
       "    </tr>\n",
       "    <tr>\n",
       "      <th>PacersIND</th>\n",
       "      <td>2</td>\n",
       "      <td>0</td>\n",
       "    </tr>\n",
       "    <tr>\n",
       "      <th>PistonsDET</th>\n",
       "      <td>2</td>\n",
       "      <td>0</td>\n",
       "    </tr>\n",
       "    <tr>\n",
       "      <th>MavericksDAL</th>\n",
       "      <td>1</td>\n",
       "      <td>0</td>\n",
       "    </tr>\n",
       "    <tr>\n",
       "      <th>JazzUTAH</th>\n",
       "      <td>1</td>\n",
       "      <td>0</td>\n",
       "    </tr>\n",
       "    <tr>\n",
       "      <th>WarriorsGS</th>\n",
       "      <td>1</td>\n",
       "      <td>0</td>\n",
       "    </tr>\n",
       "    <tr>\n",
       "      <th>ClippersLAC</th>\n",
       "      <td>1</td>\n",
       "      <td>0</td>\n",
       "    </tr>\n",
       "    <tr>\n",
       "      <th>CelticsBOS</th>\n",
       "      <td>1</td>\n",
       "      <td>0</td>\n",
       "    </tr>\n",
       "    <tr>\n",
       "      <th>RaptorsTOR</th>\n",
       "      <td>1</td>\n",
       "      <td>0</td>\n",
       "    </tr>\n",
       "    <tr>\n",
       "      <th>GrizzliesMEM</th>\n",
       "      <td>1</td>\n",
       "      <td>0</td>\n",
       "    </tr>\n",
       "    <tr>\n",
       "      <th>ThunderOKC</th>\n",
       "      <td>1</td>\n",
       "      <td>0</td>\n",
       "    </tr>\n",
       "    <tr>\n",
       "      <th>HeatMIA</th>\n",
       "      <td>1</td>\n",
       "      <td>0</td>\n",
       "    </tr>\n",
       "    <tr>\n",
       "      <th>HawksATL</th>\n",
       "      <td>1</td>\n",
       "      <td>0</td>\n",
       "    </tr>\n",
       "    <tr>\n",
       "      <th>NetsBKN</th>\n",
       "      <td>1</td>\n",
       "      <td>1</td>\n",
       "    </tr>\n",
       "    <tr>\n",
       "      <th>PelicansNO</th>\n",
       "      <td>1</td>\n",
       "      <td>1</td>\n",
       "    </tr>\n",
       "    <tr>\n",
       "      <th>KingsSAC</th>\n",
       "      <td>1</td>\n",
       "      <td>1</td>\n",
       "    </tr>\n",
       "    <tr>\n",
       "      <th>BullsCHI</th>\n",
       "      <td>0</td>\n",
       "      <td>1</td>\n",
       "    </tr>\n",
       "    <tr>\n",
       "      <th>CavaliersCLE</th>\n",
       "      <td>0</td>\n",
       "      <td>1</td>\n",
       "    </tr>\n",
       "    <tr>\n",
       "      <th>LakersLAL</th>\n",
       "      <td>0</td>\n",
       "      <td>1</td>\n",
       "    </tr>\n",
       "    <tr>\n",
       "      <th>KnicksNY</th>\n",
       "      <td>0</td>\n",
       "      <td>1</td>\n",
       "    </tr>\n",
       "    <tr>\n",
       "      <th>76ersPHI</th>\n",
       "      <td>0</td>\n",
       "      <td>1</td>\n",
       "    </tr>\n",
       "    <tr>\n",
       "      <th>TimberwolvesMIN</th>\n",
       "      <td>0</td>\n",
       "      <td>1</td>\n",
       "    </tr>\n",
       "    <tr>\n",
       "      <th>MagicORL</th>\n",
       "      <td>0</td>\n",
       "      <td>1</td>\n",
       "    </tr>\n",
       "    <tr>\n",
       "      <th>Trail BlazersPOR</th>\n",
       "      <td>0</td>\n",
       "      <td>1</td>\n",
       "    </tr>\n",
       "    <tr>\n",
       "      <th>NuggetsDEN</th>\n",
       "      <td>0</td>\n",
       "      <td>2</td>\n",
       "    </tr>\n",
       "    <tr>\n",
       "      <th>WizardsWSH</th>\n",
       "      <td>0</td>\n",
       "      <td>2</td>\n",
       "    </tr>\n",
       "    <tr>\n",
       "      <th>HornetsCHA</th>\n",
       "      <td>0</td>\n",
       "      <td>2</td>\n",
       "    </tr>\n",
       "    <tr>\n",
       "      <th>SunsPHX</th>\n",
       "      <td>0</td>\n",
       "      <td>2</td>\n",
       "    </tr>\n",
       "    <tr>\n",
       "      <th>SpursSA</th>\n",
       "      <td>0</td>\n",
       "      <td>2</td>\n",
       "    </tr>\n",
       "  </tbody>\n",
       "</table>\n",
       "</div>"
      ],
      "text/plain": [
       "                  W  L\n",
       "BucksMIL          2  0\n",
       "RocketsHOU        2  0\n",
       "PacersIND         2  0\n",
       "PistonsDET        2  0\n",
       "MavericksDAL      1  0\n",
       "JazzUTAH          1  0\n",
       "WarriorsGS        1  0\n",
       "ClippersLAC       1  0\n",
       "CelticsBOS        1  0\n",
       "RaptorsTOR        1  0\n",
       "GrizzliesMEM      1  0\n",
       "ThunderOKC        1  0\n",
       "HeatMIA           1  0\n",
       "HawksATL          1  0\n",
       "NetsBKN           1  1\n",
       "PelicansNO        1  1\n",
       "KingsSAC          1  1\n",
       "BullsCHI          0  1\n",
       "CavaliersCLE      0  1\n",
       "LakersLAL         0  1\n",
       "KnicksNY          0  1\n",
       "76ersPHI          0  1\n",
       "TimberwolvesMIN   0  1\n",
       "MagicORL          0  1\n",
       "Trail BlazersPOR  0  1\n",
       "NuggetsDEN        0  2\n",
       "WizardsWSH        0  2\n",
       "HornetsCHA        0  2\n",
       "SunsPHX           0  2\n",
       "SpursSA           0  2"
      ]
     },
     "execution_count": 26,
     "metadata": {},
     "output_type": "execute_result"
    }
   ],
   "source": [
    "final_output=pd.DataFrame(results_dic).T[['W','L']].sort_values(['W','L'],ascending=[False,True])\n",
    "final_output"
   ]
  }
 ],
 "metadata": {
  "kernelspec": {
   "display_name": "Python 3",
   "language": "python",
   "name": "python3"
  },
  "language_info": {
   "codemirror_mode": {
    "name": "ipython",
    "version": 3
   },
   "file_extension": ".py",
   "mimetype": "text/x-python",
   "name": "python",
   "nbconvert_exporter": "python",
   "pygments_lexer": "ipython3",
   "version": "3.6.4"
  }
 },
 "nbformat": 4,
 "nbformat_minor": 2
}

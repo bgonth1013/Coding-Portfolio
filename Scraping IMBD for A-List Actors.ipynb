{
 "cells": [
  {
   "cell_type": "code",
   "execution_count": 1,
   "metadata": {},
   "outputs": [],
   "source": [
    "import requests\n",
    "import urllib\n",
    "\n",
    "import pandas as pd\n",
    "\n",
    "import pickle\n",
    "from os.path import join\n",
    "\n",
    "from bs4 import BeautifulSoup"
   ]
  },
  {
   "cell_type": "code",
   "execution_count": 8,
   "metadata": {},
   "outputs": [
    {
     "data": {
      "text/plain": [
       "['https://www.imdb.com/list/ls058011111/?page=1',\n",
       " 'https://www.imdb.com/list/ls058011111/?page=2',\n",
       " 'https://www.imdb.com/list/ls058011111/?page=3',\n",
       " 'https://www.imdb.com/list/ls058011111/?page=4',\n",
       " 'https://www.imdb.com/list/ls058011111/?page=5',\n",
       " 'https://www.imdb.com/list/ls058011111/?page=6',\n",
       " 'https://www.imdb.com/list/ls058011111/?page=7',\n",
       " 'https://www.imdb.com/list/ls058011111/?page=8',\n",
       " 'https://www.imdb.com/list/ls058011111/?page=9',\n",
       " 'https://www.imdb.com/list/ls058011111/?page=10']"
      ]
     },
     "execution_count": 8,
     "metadata": {},
     "output_type": "execute_result"
    }
   ],
   "source": [
    "base_url='https://www.imdb.com/list/ls058011111/?'\n",
    "\n",
    "links=[]\n",
    "for i in range(1,11):\n",
    "    encode=urllib.parse.urlencode({'page':str(i)})\n",
    "    link=base_url+encode\n",
    "    links.append(link)\n",
    "links"
   ]
  },
  {
   "cell_type": "code",
   "execution_count": 35,
   "metadata": {},
   "outputs": [],
   "source": [
    "def scrape_actors(link):\n",
    "    \n",
    "    response=requests.get(link)\n",
    "    print(link)\n",
    "    print(response.status_code)\n",
    "    print()\n",
    "    soup=BeautifulSoup(response.content)\n",
    "\n",
    "    actors=[]\n",
    "\n",
    "    for val in soup.find_all('h3',class_='lister-item-header'):\n",
    "        \n",
    "        actor=val.a.text.strip('\\n')\n",
    "        actors.append(actor)\n",
    "        \n",
    "    return actors"
   ]
  },
  {
   "cell_type": "code",
   "execution_count": 36,
   "metadata": {},
   "outputs": [
    {
     "name": "stdout",
     "output_type": "stream",
     "text": [
      "https://www.imdb.com/list/ls058011111/?page=1\n",
      "200\n",
      "\n",
      "https://www.imdb.com/list/ls058011111/?page=2\n",
      "200\n",
      "\n",
      "https://www.imdb.com/list/ls058011111/?page=3\n",
      "200\n",
      "\n",
      "https://www.imdb.com/list/ls058011111/?page=4\n",
      "200\n",
      "\n",
      "https://www.imdb.com/list/ls058011111/?page=5\n",
      "200\n",
      "\n",
      "https://www.imdb.com/list/ls058011111/?page=6\n",
      "200\n",
      "\n",
      "https://www.imdb.com/list/ls058011111/?page=7\n",
      "200\n",
      "\n",
      "https://www.imdb.com/list/ls058011111/?page=8\n",
      "200\n",
      "\n",
      "https://www.imdb.com/list/ls058011111/?page=9\n",
      "200\n",
      "\n",
      "https://www.imdb.com/list/ls058011111/?page=10\n",
      "200\n",
      "\n"
     ]
    }
   ],
   "source": [
    "final_li=[]\n",
    "\n",
    "for link in links:\n",
    "    \n",
    "    li=scrape_actors(link)\n",
    "    final_li+=li"
   ]
  },
  {
   "cell_type": "code",
   "execution_count": 38,
   "metadata": {},
   "outputs": [
    {
     "data": {
      "text/plain": [
       "1000"
      ]
     },
     "execution_count": 38,
     "metadata": {},
     "output_type": "execute_result"
    }
   ],
   "source": [
    "len(final_li)"
   ]
  },
  {
   "cell_type": "code",
   "execution_count": 47,
   "metadata": {},
   "outputs": [
    {
     "data": {
      "text/plain": [
       "[' Robert De Niro',\n",
       " ' Jack Nicholson',\n",
       " ' Tom Hanks',\n",
       " ' Marlon Brando',\n",
       " ' Leonardo DiCaprio',\n",
       " ' Humphrey Bogart',\n",
       " ' Johnny Depp',\n",
       " ' Al Pacino',\n",
       " ' Denzel Washington',\n",
       " ' Laurence Olivier']"
      ]
     },
     "execution_count": 47,
     "metadata": {},
     "output_type": "execute_result"
    }
   ],
   "source": [
    "final_li[:10]"
   ]
  },
  {
   "cell_type": "code",
   "execution_count": 46,
   "metadata": {},
   "outputs": [],
   "source": [
    "path='C:/Users/blake.gonthier/Desktop/Box Office Project/'\n",
    "pd.DataFrame(final_li,columns=['Actors']).to_csv(join(path,'a_list_actors.csv'))"
   ]
  }
 ],
 "metadata": {
  "kernelspec": {
   "display_name": "Python 3",
   "language": "python",
   "name": "python3"
  },
  "language_info": {
   "codemirror_mode": {
    "name": "ipython",
    "version": 3
   },
   "file_extension": ".py",
   "mimetype": "text/x-python",
   "name": "python",
   "nbconvert_exporter": "python",
   "pygments_lexer": "ipython3",
   "version": "3.6.4"
  }
 },
 "nbformat": 4,
 "nbformat_minor": 2
}
